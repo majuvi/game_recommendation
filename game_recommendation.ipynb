{
 "cells": [
  {
   "cell_type": "markdown",
   "metadata": {},
   "source": [
    "# Game Recommendation\n",
    "<i>Authors: Markus Viljanen</i>"
   ]
  },
  {
   "cell_type": "markdown",
   "metadata": {},
   "source": [
    "This notebook is a simple demonstration of models in our paper. We focus on the following four new recommendation algorithms:\n",
    "1. Multivariate Normal Distribution (MVN): recommender based on game likes (collaborative filtering).\n",
    "2. Questions: recommender based on game likes and player features (content based).\n",
    "3. Tags: recommender based on game likes and game features (content based).\n",
    "4. QuestionsXTags: recommender based on game likes, player features and game features (content based).\n",
    "\n",
    "In the first experient, we benchmark the algorithms against various baselines (Random, Popularity, SVD) on their recommendation accuracy in the Top-N recommendation task. We use the normalized Discounted Cumulative Gain (nDCG) and precision@k metrics.  The experiment demonstrates that the best model depends on the recommendation task: we differentiate four settings based on whether we recommend to new games, new players, or both simulatenously.\n",
    "\n",
    "In the second experiment, we contrast recommendation accuracy and the subjective quality of the recommenders. We measure accuracy with a simple training / test set split, the subjective quality by the actual recommendations for 7 example players. It seems that accuracy does not necessarily correlate with subjective quality. The main reason for this is popularity bias; recommeding more popular games that are not directly related to liked games or question answers improves accuracy.\n",
    "\n",
    "Finally, we interpret the parameters of the four models and demonstrate that they produce useful information about why certain games are liked by certain players. This can be used to explain the reasoning behind recommendations or for fine-tuning the models to improve the subjective quality.\n"
   ]
  },
  {
   "cell_type": "markdown",
   "metadata": {},
   "source": [
    "## Imports"
   ]
  },
  {
   "cell_type": "code",
   "execution_count": 1,
   "metadata": {},
   "outputs": [
    {
     "name": "stderr",
     "output_type": "stream",
     "text": [
      "D:\\recommender_online\\widgets.py:7: FutureWarning: Passing a negative integer is deprecated in version 1.0 and will not be supported in future version. Instead, use None to not limit the column width.\n",
      "  pd.set_option('display.max_colwidth', -1)\n"
     ]
    }
   ],
   "source": [
    "import numpy as np\n",
    "import pandas as pd\n",
    "import scipy.sparse as sp\n",
    "from sklearn.model_selection import ShuffleSplit\n",
    "from ipywidgets import interact\n",
    "\n",
    "from data import Data\n",
    "from validation import split_data_k, precision_score_player, precision_score_array, dcg_score_player, dcg_score_array\n",
    "from methods import Popularity, Random, MVN, MVN_nobias, PureSVD, SVD, Questions, Tags, QuestionsXTags\n",
    "from widgets import display_validation_questions, display_online_questions, display_online\n",
    "from IPython.display import Image, HTML\n",
    "\n",
    "def fmt_allcols(df):\n",
    "    return (dict(zip(df.columns, [lambda s: '<p>%s</p>' % (\"<br>\".join(s.split(\",\")))] * len(df.columns))))\n"
   ]
  },
  {
   "cell_type": "markdown",
   "metadata": {},
   "source": [
    "## Data Set"
   ]
  },
  {
   "cell_type": "markdown",
   "metadata": {},
   "source": [
    "> Unfortunately this data set is not ours and the contributors wish to keep it private."
   ]
  },
  {
   "cell_type": "markdown",
   "metadata": {},
   "source": [
    "<img src=\"data_matrices.png\" alt=\"Illustration of data matrices\" style=\"height: 200px;\"/>"
   ]
  },
  {
   "cell_type": "markdown",
   "metadata": {},
   "source": [
    "The recommendations are based on three data sets that we load as matrices:\n",
    "1. likes: (players, games) matrix of game like status for every player and game (0/1) \n",
    "2. questions: (players, questions) matrix of question preferences for every player (-2,-1,0,1,2).\n",
    "3. tags: (games, tags) matrix of game tag status for every game (0/1)\n",
    "\n",
    "In addition we have the following mapping to human readable explanations for each id:\n",
    "1. userids: mapping of userids to player names\n",
    "2. gameids: mapping of gameids to game names\n",
    "3. questionids: mapping of questionids to question names\n",
    "4. tagids: mapping of tagids to tag names\n",
    "\n",
    "We load a local copy of the data set:"
   ]
  },
  {
   "cell_type": "code",
   "execution_count": 2,
   "metadata": {},
   "outputs": [
    {
     "name": "stdout",
     "output_type": "stream",
     "text": [
      "Players: 15894\n",
      "Games: 6465\n",
      "Questions: 61\n",
      "Tags: 379\n"
     ]
    }
   ],
   "source": [
    "data = Data()\n",
    "likes, questions, tags, userids, gameids, questionids, tagids = data.get_game_matrix_with_features()"
   ]
  },
  {
   "cell_type": "markdown",
   "metadata": {},
   "source": [
    "For these quantities (15894 players, 6465 games, 61 questions, 379 tags), the dimensions are as expected:"
   ]
  },
  {
   "cell_type": "code",
   "execution_count": 3,
   "metadata": {},
   "outputs": [
    {
     "name": "stdout",
     "output_type": "stream",
     "text": [
      "(15894, 6465) (15894, 61) (6465, 379) 15894 6465 61 379\n"
     ]
    }
   ],
   "source": [
    "print(likes.shape, questions.shape, tags.shape, len(userids), len(gameids), len(questionids), len(tagids))"
   ]
  },
  {
   "cell_type": "markdown",
   "metadata": {},
   "source": [
    "The last 7 rows are players that we use as example recommendations:"
   ]
  },
  {
   "cell_type": "code",
   "execution_count": 4,
   "metadata": {},
   "outputs": [
    {
     "name": "stdout",
     "output_type": "stream",
     "text": [
      "[15887 15888 15889 15890 15891 15892 15893]\n"
     ]
    }
   ],
   "source": [
    "validation_rows = np.arange(likes.shape[0])[-data.n_validation:]\n",
    "print(validation_rows)"
   ]
  },
  {
   "cell_type": "markdown",
   "metadata": {},
   "source": [
    "## Train and test set split"
   ]
  },
  {
   "cell_type": "markdown",
   "metadata": {},
   "source": [
    "In the previous picture, we illustrated four different validation settings:\n",
    "1. Setting 1: recommendations when both the player and the game belong the training set\n",
    "2. Setting 2: recommendations when the game does not belong to the training set.\n",
    "3. Setting 3: recommendations when the player does not belong to the training set.\n",
    "4. Setting 4: recommendations when neither the player or the game belongs to the training set.\n",
    "\n",
    "This is achieved with a simple training and test set split. We split the columns (games) into training and test, and the rows (players) into training and test:"
   ]
  },
  {
   "cell_type": "code",
   "execution_count": 5,
   "metadata": {},
   "outputs": [],
   "source": [
    "split = 0.25\n",
    "row_split = ShuffleSplit(n_splits=1, test_size=split, random_state=0)\n",
    "train_rows, test_rows = next(row_split.split(likes))\n",
    "col_split = ShuffleSplit(n_splits=1, test_size=split, random_state=0)\n",
    "train_cols, test_cols = next(col_split.split(likes.T))"
   ]
  },
  {
   "cell_type": "markdown",
   "metadata": {},
   "source": [
    "This allocates the player features and the game features into training and test feature matrices:"
   ]
  },
  {
   "cell_type": "code",
   "execution_count": 6,
   "metadata": {},
   "outputs": [
    {
     "name": "stdout",
     "output_type": "stream",
     "text": [
      "(11920, 61) (3974, 61) (4848, 379) (1617, 379)\n"
     ]
    }
   ],
   "source": [
    "X1_train = questions[train_rows,]\n",
    "X1_test = questions[test_rows,]\n",
    "X2_train = tags[train_cols,]\n",
    "X2_test = tags[test_cols,]\n",
    "\n",
    "X1_test = np.array(X1_test.toarray(), dtype=float)\n",
    "X2_test = np.array(X2_test.toarray(), dtype=float)\n",
    "\n",
    "print(X1_train.shape, X1_test.shape, X2_train.shape, X2_test.shape)"
   ]
  },
  {
   "cell_type": "markdown",
   "metadata": {},
   "source": [
    "This is the game like matrix split into the four settings:"
   ]
  },
  {
   "cell_type": "code",
   "execution_count": 7,
   "metadata": {},
   "outputs": [
    {
     "name": "stdout",
     "output_type": "stream",
     "text": [
      "(11920, 4848) (11920, 1617) (3974, 4848) (3974, 1617)\n"
     ]
    }
   ],
   "source": [
    "Y = np.array(likes.toarray(), dtype=float)\n",
    "Y1 = sp.csr_matrix(Y[np.ix_(train_rows, train_cols)])\n",
    "Y2 = sp.csr_matrix(Y[np.ix_(train_rows, test_cols)])\n",
    "Y3 = sp.csr_matrix(Y[np.ix_(test_rows, train_cols)])\n",
    "Y4 = sp.csr_matrix(Y[np.ix_(test_rows, test_cols)])\n",
    "print(Y1.shape, Y2.shape, Y3.shape, Y4.shape)"
   ]
  },
  {
   "cell_type": "markdown",
   "metadata": {},
   "source": [
    "In Setting 1 the recommendations are based on 3 game likes and the goal is to guess the remaining game likes, so we split it further:"
   ]
  },
  {
   "cell_type": "code",
   "execution_count": 8,
   "metadata": {},
   "outputs": [],
   "source": [
    "Y1_train, Y1_test = split_data_k(Y1, 3)"
   ]
  },
  {
   "cell_type": "markdown",
   "metadata": {},
   "source": [
    "## Fit models"
   ]
  },
  {
   "cell_type": "markdown",
   "metadata": {},
   "source": [
    "We now fit the models and evaluate their nDCG and Precision@k in each of the 4 different settings.\n",
    "\n",
    "It is actually possible to think four different models (SVD, Questions, Tags, Questions x Tags) as instances of a similar model. In the SVD, we learn latent player features and latent game features based on the likes. In the Questions model, we assume that the player features (questions) are given and learn how each game responds to each feature based on the likes. In the Tags model, we assume that the game features (tags) are given and learn how each player responds to each feature based on the likes. In the Questions x Tags model, we assume both player features (questions) and game features (tags) are given and learn how each player feature interacts with each game feature based on the likes. \n",
    "\n",
    "This means that the models have varying degrees of flexibility with the SVD having the most and the Questions x Tags having the last. However, as illustrated in the picture, this means that the models can generalize to varying degrees with the SVD having the least and the Questions x Tags having the most settings."
   ]
  },
  {
   "cell_type": "markdown",
   "metadata": {},
   "source": [
    "<img src=\"data_models.png\" alt=\"Illustration of models\" style=\"width: 600px;\"/>"
   ]
  },
  {
   "cell_type": "code",
   "execution_count": 9,
   "metadata": {},
   "outputs": [],
   "source": [
    "def evaluate_precision(model):\n",
    "    p = model.predict1()\n",
    "    prc1 = precision_score_array(p, Y1_test, Y1_train)\n",
    "    p = model.predict2(X2_test)\n",
    "    prc2 = precision_score_array(p, Y2)\n",
    "    p = model.predict3(X1_test)\n",
    "    prc3 = precision_score_array(p, Y3)\n",
    "    p = model.predict4(X1_test, X2_test)\n",
    "    prc4 = precision_score_array(p, Y4)\n",
    "    return(prc1, prc2, prc3, prc4)\n"
   ]
  },
  {
   "cell_type": "code",
   "execution_count": 10,
   "metadata": {},
   "outputs": [],
   "source": [
    "def evaluate_dcg(model):\n",
    "    p = model.predict1()\n",
    "    acc1 = dcg_score_array(p, Y1_test, Y1_train)\n",
    "    p = model.predict2(X2_test)\n",
    "    acc2 = dcg_score_array(p, Y2)\n",
    "    p = model.predict3(X1_test)\n",
    "    acc3 = dcg_score_array(p, Y3)\n",
    "    p = model.predict4(X1_test, X2_test)\n",
    "    acc4 = dcg_score_array(p, Y4)\n",
    "    return(acc1, acc2, acc3, acc4)\n"
   ]
  },
  {
   "cell_type": "code",
   "execution_count": 11,
   "metadata": {},
   "outputs": [
    {
     "name": "stderr",
     "output_type": "stream",
     "text": [
      "WARNING:root:Intel MKL BLAS detected. Its highly recommend to set the environment variable 'export MKL_NUM_THREADS=1' to disable its internal multithreading\n"
     ]
    }
   ],
   "source": [
    "dcg = {}\n",
    "prc = {}\n",
    "\n",
    "model = Random()\n",
    "model.fit(Y1_train)\n",
    "prc['Random'] = evaluate_precision(model)\n",
    "dcg['Random'] = evaluate_dcg(model)\n",
    "\n",
    "model = Popularity()\n",
    "model.fit(Y1_train)\n",
    "prc['Popularity'] = evaluate_precision(model)\n",
    "dcg['Popularity'] = evaluate_dcg(model)\n",
    "\n",
    "model = MVN(Y1_train)\n",
    "prc['MVN'] = evaluate_precision(model)\n",
    "dcg['MVN'] = evaluate_dcg(model)\n",
    "\n",
    "model = PureSVD(k=20)\n",
    "model.fit(Y1_train)\n",
    "prc['PureSVD'] = evaluate_precision(model)\n",
    "dcg['PureSVD'] = evaluate_dcg(model)\n",
    "\n",
    "model = SVD(k=20, epochs=256, reg=16)\n",
    "model.fit(Y1_train)\n",
    "prc['SVD'] = evaluate_precision(model)\n",
    "dcg['SVD'] = evaluate_dcg(model)\n",
    "\n",
    "model = QuestionsXTags()\n",
    "model.fit(Y1_train, X1_train, X2_train, reg=1)\n",
    "prc['QuestionsXTags'] = evaluate_precision(model)\n",
    "dcg['QuestionsXTags'] = evaluate_dcg(model)\n",
    "\n",
    "model = Tags()\n",
    "model.fit(Y1_train, X2_train, reg=1000)\n",
    "prc['Tags'] = evaluate_precision(model)\n",
    "dcg['Tags'] = evaluate_dcg(model)\n",
    "\n",
    "model = Questions()\n",
    "model.fit(Y1_train, X1_train, reg=1)\n",
    "prc['Questions'] = evaluate_precision(model)\n",
    "dcg['Questions'] = evaluate_dcg(model)"
   ]
  },
  {
   "cell_type": "markdown",
   "metadata": {},
   "source": [
    "## Plot"
   ]
  },
  {
   "cell_type": "markdown",
   "metadata": {},
   "source": [
    "In terms of precision the most accurate model is the MVN in Setting 1, the Tags in Setting 2, the Questions in Setting 3, and the Questions x Tags in Setting 4:"
   ]
  },
  {
   "cell_type": "code",
   "execution_count": 14,
   "metadata": {},
   "outputs": [
    {
     "data": {
      "text/html": [
       "<div>\n",
       "<style scoped>\n",
       "    .dataframe tbody tr th:only-of-type {\n",
       "        vertical-align: middle;\n",
       "    }\n",
       "\n",
       "    .dataframe tbody tr th {\n",
       "        vertical-align: top;\n",
       "    }\n",
       "\n",
       "    .dataframe thead th {\n",
       "        text-align: right;\n",
       "    }\n",
       "</style>\n",
       "<table border=\"1\" class=\"dataframe\">\n",
       "  <thead>\n",
       "    <tr style=\"text-align: right;\">\n",
       "      <th></th>\n",
       "      <th>Setting 1</th>\n",
       "      <th>Setting 2</th>\n",
       "      <th>Setting 3</th>\n",
       "      <th>Setting 4</th>\n",
       "    </tr>\n",
       "  </thead>\n",
       "  <tbody>\n",
       "    <tr>\n",
       "      <th>Random</th>\n",
       "      <td>0.3</td>\n",
       "      <td>0.1</td>\n",
       "      <td>0.1</td>\n",
       "      <td>0.1</td>\n",
       "    </tr>\n",
       "    <tr>\n",
       "      <th>Popularity</th>\n",
       "      <td>3.3</td>\n",
       "      <td>0.1</td>\n",
       "      <td>4.0</td>\n",
       "      <td>0.1</td>\n",
       "    </tr>\n",
       "    <tr>\n",
       "      <th>MVN</th>\n",
       "      <td>5.1</td>\n",
       "      <td>0.1</td>\n",
       "      <td>4.0</td>\n",
       "      <td>0.1</td>\n",
       "    </tr>\n",
       "    <tr>\n",
       "      <th>PureSVD</th>\n",
       "      <td>3.8</td>\n",
       "      <td>0.1</td>\n",
       "      <td>0.1</td>\n",
       "      <td>0.1</td>\n",
       "    </tr>\n",
       "    <tr>\n",
       "      <th>SVD</th>\n",
       "      <td>4.3</td>\n",
       "      <td>0.1</td>\n",
       "      <td>0.1</td>\n",
       "      <td>0.1</td>\n",
       "    </tr>\n",
       "    <tr>\n",
       "      <th>QuestionsXTags</th>\n",
       "      <td>2.6</td>\n",
       "      <td>1.1</td>\n",
       "      <td>2.7</td>\n",
       "      <td>1.2</td>\n",
       "    </tr>\n",
       "    <tr>\n",
       "      <th>Tags</th>\n",
       "      <td>2.5</td>\n",
       "      <td>1.7</td>\n",
       "      <td>0.1</td>\n",
       "      <td>0.1</td>\n",
       "    </tr>\n",
       "    <tr>\n",
       "      <th>Questions</th>\n",
       "      <td>3.4</td>\n",
       "      <td>0.1</td>\n",
       "      <td>4.3</td>\n",
       "      <td>0.1</td>\n",
       "    </tr>\n",
       "  </tbody>\n",
       "</table>\n",
       "</div>"
      ],
      "text/plain": [
       "                Setting 1  Setting 2  Setting 3  Setting 4\n",
       "Random          0.3        0.1        0.1        0.1      \n",
       "Popularity      3.3        0.1        4.0        0.1      \n",
       "MVN             5.1        0.1        4.0        0.1      \n",
       "PureSVD         3.8        0.1        0.1        0.1      \n",
       "SVD             4.3        0.1        0.1        0.1      \n",
       "QuestionsXTags  2.6        1.1        2.7        1.2      \n",
       "Tags            2.5        1.7        0.1        0.1      \n",
       "Questions       3.4        0.1        4.3        0.1      "
      ]
     },
     "execution_count": 14,
     "metadata": {},
     "output_type": "execute_result"
    }
   ],
   "source": [
    "df = pd.DataFrame(prc, index=['Setting 1', 'Setting 2', 'Setting 3', 'Setting 4'])\n",
    "(df.T*100).round(1)"
   ]
  },
  {
   "cell_type": "markdown",
   "metadata": {},
   "source": [
    "The results are same for nDCG that considers the quality of the entire recommendation list:"
   ]
  },
  {
   "cell_type": "code",
   "execution_count": 16,
   "metadata": {},
   "outputs": [
    {
     "data": {
      "text/html": [
       "<div>\n",
       "<style scoped>\n",
       "    .dataframe tbody tr th:only-of-type {\n",
       "        vertical-align: middle;\n",
       "    }\n",
       "\n",
       "    .dataframe tbody tr th {\n",
       "        vertical-align: top;\n",
       "    }\n",
       "\n",
       "    .dataframe thead th {\n",
       "        text-align: right;\n",
       "    }\n",
       "</style>\n",
       "<table border=\"1\" class=\"dataframe\">\n",
       "  <thead>\n",
       "    <tr style=\"text-align: right;\">\n",
       "      <th></th>\n",
       "      <th>Setting 1</th>\n",
       "      <th>Setting 2</th>\n",
       "      <th>Setting 3</th>\n",
       "      <th>Setting 4</th>\n",
       "    </tr>\n",
       "  </thead>\n",
       "  <tbody>\n",
       "    <tr>\n",
       "      <th>Random</th>\n",
       "      <td>15.0</td>\n",
       "      <td>13.2</td>\n",
       "      <td>14.6</td>\n",
       "      <td>13.4</td>\n",
       "    </tr>\n",
       "    <tr>\n",
       "      <th>Popularity</th>\n",
       "      <td>26.4</td>\n",
       "      <td>13.2</td>\n",
       "      <td>29.8</td>\n",
       "      <td>13.4</td>\n",
       "    </tr>\n",
       "    <tr>\n",
       "      <th>MVN</th>\n",
       "      <td>32.6</td>\n",
       "      <td>13.2</td>\n",
       "      <td>29.8</td>\n",
       "      <td>13.4</td>\n",
       "    </tr>\n",
       "    <tr>\n",
       "      <th>PureSVD</th>\n",
       "      <td>28.2</td>\n",
       "      <td>13.2</td>\n",
       "      <td>14.6</td>\n",
       "      <td>13.4</td>\n",
       "    </tr>\n",
       "    <tr>\n",
       "      <th>SVD</th>\n",
       "      <td>30.7</td>\n",
       "      <td>13.2</td>\n",
       "      <td>14.6</td>\n",
       "      <td>13.4</td>\n",
       "    </tr>\n",
       "    <tr>\n",
       "      <th>QuestionsXTags</th>\n",
       "      <td>23.8</td>\n",
       "      <td>19.9</td>\n",
       "      <td>24.4</td>\n",
       "      <td>20.0</td>\n",
       "    </tr>\n",
       "    <tr>\n",
       "      <th>Tags</th>\n",
       "      <td>23.6</td>\n",
       "      <td>22.3</td>\n",
       "      <td>14.6</td>\n",
       "      <td>13.4</td>\n",
       "    </tr>\n",
       "    <tr>\n",
       "      <th>Questions</th>\n",
       "      <td>26.7</td>\n",
       "      <td>13.2</td>\n",
       "      <td>32.2</td>\n",
       "      <td>13.4</td>\n",
       "    </tr>\n",
       "  </tbody>\n",
       "</table>\n",
       "</div>"
      ],
      "text/plain": [
       "                Setting 1  Setting 2  Setting 3  Setting 4\n",
       "Random          15.0       13.2       14.6       13.4     \n",
       "Popularity      26.4       13.2       29.8       13.4     \n",
       "MVN             32.6       13.2       29.8       13.4     \n",
       "PureSVD         28.2       13.2       14.6       13.4     \n",
       "SVD             30.7       13.2       14.6       13.4     \n",
       "QuestionsXTags  23.8       19.9       24.4       20.0     \n",
       "Tags            23.6       22.3       14.6       13.4     \n",
       "Questions       26.7       13.2       32.2       13.4     "
      ]
     },
     "execution_count": 16,
     "metadata": {},
     "output_type": "execute_result"
    }
   ],
   "source": [
    "df = pd.DataFrame(dcg, index=['Setting 1', 'Setting 2', 'Setting 3', 'Setting 4'])\n",
    "(df.T*100).round(1)"
   ]
  },
  {
   "cell_type": "markdown",
   "metadata": {},
   "source": [
    "## Qualitative"
   ]
  },
  {
   "cell_type": "markdown",
   "metadata": {},
   "source": [
    "It is often not enough to consider only the quantitative accuracy of the methods. The subjective quality of the recommendations is also important and we should at least verify that more accurate models mean better recommendations. For this purpose, we split the data into Setting 1, where the goal is to recommend games based on 3 game likes:"
   ]
  },
  {
   "cell_type": "code",
   "execution_count": 17,
   "metadata": {},
   "outputs": [],
   "source": [
    "games_train, games_test = split_data_k(likes, 3)"
   ]
  },
  {
   "cell_type": "markdown",
   "metadata": {},
   "source": [
    "### MVN"
   ]
  },
  {
   "cell_type": "code",
   "execution_count": 18,
   "metadata": {},
   "outputs": [
    {
     "name": "stdout",
     "output_type": "stream",
     "text": [
      "Precision@k 0.059\n"
     ]
    }
   ],
   "source": [
    "model = MVN(games_train)\n",
    "prc = precision_score_player(model.predict, games_test, games_train, k=20)\n",
    "print(\"Precision@k %.3f\" % prc)\n",
    "\n",
    "recs_mvn = display_validation_questions(validation_rows, model.predict, userids, games_train, gameids, \n",
    "                             data.games_covers, data.games_description,\n",
    "                            questions, questionids, data.items_description, n_recommendations=10)"
   ]
  },
  {
   "cell_type": "markdown",
   "metadata": {},
   "source": [
    "### Questions"
   ]
  },
  {
   "cell_type": "code",
   "execution_count": 20,
   "metadata": {},
   "outputs": [
    {
     "name": "stdout",
     "output_type": "stream",
     "text": [
      "Precision@k 0.036\n"
     ]
    }
   ],
   "source": [
    "model = Questions()\n",
    "model.fit(games_train, questions, reg=1)\n",
    "prc = precision_score_player(model.predict, games_test, games_train, k=20)\n",
    "print(\"Precision@k %.3f\" % prc)\n",
    "\n",
    "recs_questions = display_validation_questions(validation_rows, model.predict, userids, games_train, gameids, \n",
    "                             data.games_covers, data.games_description,\n",
    "                            questions, questionids, data.items_description, n_recommendations=10)"
   ]
  },
  {
   "cell_type": "markdown",
   "metadata": {},
   "source": [
    "### Tags"
   ]
  },
  {
   "cell_type": "code",
   "execution_count": 22,
   "metadata": {},
   "outputs": [
    {
     "name": "stdout",
     "output_type": "stream",
     "text": [
      "Precision@k 0.024\n"
     ]
    }
   ],
   "source": [
    "model = Tags()\n",
    "model.fit(games_train, tags, reg=1000)\n",
    "prc = precision_score_player(model.predict, games_test, games_train, k=20)\n",
    "print(\"Precision@k %.3f\" % prc)\n",
    "\n",
    "recs_tags = display_validation_questions(validation_rows, model.predict, userids, games_train, gameids, \n",
    "                             data.games_covers, data.games_description,\n",
    "                            questions, questionids, data.items_description, n_recommendations=10)"
   ]
  },
  {
   "cell_type": "markdown",
   "metadata": {},
   "source": [
    "### Questions X Tags"
   ]
  },
  {
   "cell_type": "code",
   "execution_count": 24,
   "metadata": {},
   "outputs": [
    {
     "name": "stdout",
     "output_type": "stream",
     "text": [
      "Precision@k 0.025\n"
     ]
    }
   ],
   "source": [
    "model = QuestionsXTags()\n",
    "model.fit(games_train, questions, tags, reg=1)\n",
    "prc = precision_score_player(model.predict, games_test, games_train, k=20)\n",
    "print(\"Precision@k %.3f\" % prc)\n",
    "\n",
    "recs_questionsxtags = display_validation_questions(validation_rows, model.predict, userids, games_train, gameids, \n",
    "                             data.games_covers, data.games_description,\n",
    "                            questions, questionids, data.items_description, n_recommendations=10)"
   ]
  },
  {
   "cell_type": "markdown",
   "metadata": {},
   "source": [
    "### Results:"
   ]
  },
  {
   "cell_type": "markdown",
   "metadata": {},
   "source": [
    "These are the Top 10 recommendations for each of the 7 example players:"
   ]
  },
  {
   "cell_type": "code",
   "execution_count": 26,
   "metadata": {},
   "outputs": [
    {
     "data": {
      "text/html": [
       "<table border=\"1\" class=\"dataframe\">\n",
       "  <thead>\n",
       "    <tr style=\"text-align: right;\">\n",
       "      <th></th>\n",
       "      <th>items</th>\n",
       "      <th>games</th>\n",
       "      <th>MVN</th>\n",
       "      <th>Questions</th>\n",
       "      <th>Tags</th>\n",
       "      <th>QuestionsXTags</th>\n",
       "    </tr>\n",
       "    <tr>\n",
       "      <th>userid</th>\n",
       "      <th></th>\n",
       "      <th></th>\n",
       "      <th></th>\n",
       "      <th></th>\n",
       "      <th></th>\n",
       "      <th></th>\n",
       "    </tr>\n",
       "  </thead>\n",
       "  <tbody>\n",
       "    <tr>\n",
       "      <th>93519</th>\n",
       "      <td><p>Engaging in battle<br>Weapons and skills selection for characters<br>Searching and collecting rare treasures</p></td>\n",
       "      <td><p>Child of Light<br>Dungeon Master<br>Shin Megami Tensei: Persona 3</p></td>\n",
       "      <td><p>Persona 5<br>Shin Megami Tensei: Persona 4<br>Chrono Cross<br>FINAL FANTASY IX<br>Bravely Default<br>Xenogears<br>Pokémon GO<br>Final Fantasy VII<br>NetHack<br>Final Fantasy X</p></td>\n",
       "      <td><p>World of Warcraft<br>Overwatch<br>The Witcher 3: Wild Hunt<br>Clash Royale<br>Pokémon GO<br>Diablo<br>Mass Effect<br>Fallout 4<br>Fortnite<br>FINAL FANTASY</p></td>\n",
       "      <td><p>Costume Quest<br>Ori and the Blind Forest<br>Abyss Odyssey<br>Fortune Summoners<br>Bahamut Lagoon<br>Dust: An Elysian Tail<br>Hollow Knight<br>LiEat<br>Momodora: Reverie Under the Moonlight<br>FINAL FANTASY IX</p></td>\n",
       "      <td><p>Fallout 4<br>Fallout: New Vegas<br>Fallout 3<br>Mass Effect 2<br>Deus Ex<br>Warframe<br>Grand Theft Auto V<br>Red Dead Redemption<br>Dragon's Dogma: Dark Arisen<br>Mass Effect</p></td>\n",
       "    </tr>\n",
       "    <tr>\n",
       "      <th>93520</th>\n",
       "      <td><p>Piloting and steering vehicles<br>Racing in a high speed<br>Challenges of tactics</p></td>\n",
       "      <td><p>Project CARS<br>Gran Turismo 5<br>Forza Horizon 2</p></td>\n",
       "      <td><p>BioShock Infinite<br>NHL 15<br>World of Warships<br>Portal 2<br>NBA Live 16<br>Forza Motorsport 6<br>Star Wars: Battlefront II<br>Mini Metro<br>Call of Duty: World at War<br>Halo: Reach</p></td>\n",
       "      <td><p>Call of Duty<br>Grand Theft Auto<br>Clash of Clans<br>Angry Birds<br>Battle-field<br>StarCraft<br>Dota 2<br>World of Tanks<br>Age of Empires<br>Red Dead Redemption 2</p></td>\n",
       "      <td><p>DiRT 4<br>Gran Turismo 2<br>Gran Turismo (PSP)<br>Forza Motorsport 4<br>Forza Motorsport 2<br>Need for Speed: Hot Pursuit 2<br>Test Drive Unlimited 2<br>Forza Motorsport 6<br>Forza Motorsport 5<br>Forza Motorsport</p></td>\n",
       "      <td><p>StarCraft: Brood War<br>StarCraft<br>Grand Theft Auto IV<br>StarCraft II: Legacy of the Void<br>Kerbal Space Program<br>Doom II RPG<br>Call of Duty<br>Dota 2<br>Grand Theft Auto V<br>The Banner Saga 2</p></td>\n",
       "    </tr>\n",
       "    <tr>\n",
       "      <th>93521</th>\n",
       "      <td><p>Running in a fast speed while avoiding obstacles<br>Developing skills and abilities<br>Challenges of fast reaction</p></td>\n",
       "      <td><p>Shovel Knight<br>Super Mario 3D World<br>The Legend of Zelda: Ocarina of Time</p></td>\n",
       "      <td><p>The Legend of Zelda: Breath of the Wild<br>Super Mario 64<br>The Legend of Zelda: Majora's Mask<br>Pokémon GO<br>The Legend of Zelda: The Wind Waker<br>The Legend of Zelda: A Link to the Past<br>Super Mario Galaxy<br>Super Mario Sunshine<br>Super Mario World<br>The Witcher 3: Wild Hunt</p></td>\n",
       "      <td><p>TETRIS<br>League of Legends<br>Crash Bandicoot<br>Minecraft<br>Call of Duty<br>Overwatch<br>Fortnite<br>Candy Crush Saga<br>RuneScape<br>Tomb Raider</p></td>\n",
       "      <td><p>The Legend of Zelda: Twilight Princess<br>Rogue Legacy<br>Assassin's Creed IV: Black Flag<br>The Legend of Zelda: A Link to the Past<br>Power Stone 2<br>The Legend of Zelda: Phantom Hourglass<br>Super Mario Bros. 2<br>The Elder Scrolls IV: Oblivion<br>Final Fantasy XII<br>Castle Crashers</p></td>\n",
       "      <td><p>StarCraft<br>StarCraft: Brood War<br>Counter-Strike: Global Offensive<br>Dota 2<br>Tomb Raider<br>Fortnite<br>League of Legends<br>Counter-Strike<br>Paladins<br>Super Smash Bros. for Wii U</p></td>\n",
       "    </tr>\n",
       "    <tr>\n",
       "      <th>93522</th>\n",
       "      <td><p>Hugging<br> kissing and making out<br>Investigating the story and its mysteries<br>Challenges of logical problem-solving</p></td>\n",
       "      <td><p>Heavy Rain<br>Steins;Gate<br>Life Is Strange</p></td>\n",
       "      <td><p>Call of Duty<br>TETRIS<br>Angry Birds<br>League of Legends<br>World of Warcraft<br>StarCraft<br>Candy Crush Saga<br>Fortnite<br>Red Dead Redemption<br>Clash Royale</p></td>\n",
       "      <td><p>Sudoku<br>Pokémon GO<br>World of Warcraft<br>The Sims<br>Fallout 3<br>The Witcher 3: Wild Hunt<br>Farm Heroes Saga<br>Angry Birds<br>Counter-Strike: Global Offensive<br>NetHack</p></td>\n",
       "      <td><p>Beyond: Two Souls<br>The Wolf Among Us<br>Zero Escape: Zero Time Dilemma<br>Persona 4 Golden<br>Alan Wake<br>The Walking Dead: Season Two<br>Shadow of Memories<br>Hate Plus<br>To the Moon<br>Analogue: A Hate Story</p></td>\n",
       "      <td><p>Fallout 3<br>Mass Effect 2<br>The Elder Scrolls V: Skyrim<br>Fallout 2<br>Fallout: New Vegas<br>The Elder Scrolls IV: Oblivion<br>Europa Universalis IV<br>Fallout 4<br>Assassin's Creed IV: Black Flag<br>Dragon Age: Origins</p></td>\n",
       "    </tr>\n",
       "    <tr>\n",
       "      <th>93523</th>\n",
       "      <td><p>Decorating rooms and houses<br>Hugging<br> kissing and making out<br>Challenges of logical problem-solving</p></td>\n",
       "      <td><p>Cities: Skylines<br>Overcooked<br>The Sims 2</p></td>\n",
       "      <td><p>The Sims 3<br>The Sims 4<br>The Sims<br>Civilization V<br>Stardew Valley<br>Overwatch<br>Life Is Strange<br>Pokémon GO<br>Dragon Age: Inquisition<br>Minecraft</p></td>\n",
       "      <td><p>TETRIS<br>Sudoku<br>The Sims<br>Gardenscapes<br>World of Warcraft<br>Farm Heroes Saga<br>The Elder Scrolls IV: Oblivion<br>Fallout 2<br>Homescapes<br>NetHack</p></td>\n",
       "      <td><p>Train Valley<br>Prison Architect<br>The Sims<br>RollerCoaster Tycoon 3: Platinum<br>Tropico 4<br>Game Dev Tycoon<br>Goat Simulator<br>Tropico 3<br>Turbo Dismount<br>AdVenture Capitalist</p></td>\n",
       "      <td><p>Fallout 3<br>Fallout 2<br>Fallout: New Vegas<br>The Elder Scrolls IV: Oblivion<br>Mass Effect 2<br>Warframe<br>The Sims<br>Fallout 4<br>Dragon's Dogma: Dark Arisen<br>The Elder Scrolls III: Morrowind</p></td>\n",
       "    </tr>\n",
       "    <tr>\n",
       "      <th>93524</th>\n",
       "      <td><p>Waging war and conquering<br>Managing and directing cities and their inhabitants<br>Cratfing items and valuables by combining raw materials</p></td>\n",
       "      <td><p>Europa Universalis IV<br>Rome: Total War<br>Sid Meier's Civilization IV</p></td>\n",
       "      <td><p>Medieval II: Total War<br>Empire: Total War<br>Total War: Rome II<br>The Elder Scrolls V: Skyrim<br>Shogun: Total War<br>Total War: SHOGUN 2<br>Mass Effect<br>Medieval: Total War<br>Napoleon: Total War<br>Total War: WARHAMMER</p></td>\n",
       "      <td><p>Civilization V<br>League of Legends<br>Call of Duty<br>The Witcher 3: Wild Hunt<br>The Elder Scrolls V: Skyrim<br>StarCraft<br>Age of Empires<br>World of Warcraft<br>Diablo III<br>The Elder Scrolls IV: Oblivion</p></td>\n",
       "      <td><p>Victoria II<br>Crusader Kings II<br>Civilization V<br>Medieval II: Total War<br>Empire: Total War<br>Total War: Shogun 2 - Fall of the Samurai<br>Making History: The Great War<br>Total War: SHOGUN 2<br>Sid Meier's Civilization IV<br>Civilization VI</p></td>\n",
       "      <td><p>Civilization V<br>The Elder Scrolls IV: Oblivion<br>The Elder Scrolls V: Skyrim<br>StarCraft<br>Galactic Civilizations III<br>StarCraft II: Legacy of the Void<br>Sins of a Solar Empire: Rebellion<br>Transport Tycoon Deluxe<br>Transport Tycoon<br>Hearts of Iron IV</p></td>\n",
       "    </tr>\n",
       "    <tr>\n",
       "      <th>93525</th>\n",
       "      <td><p>Doing tricks in extreme sports<br>Team sports<br>Performing in sports</p></td>\n",
       "      <td><p>NHL 17<br>FIFA 18<br>WWE 2K19</p></td>\n",
       "      <td><p>FIFA 17<br>Fortnite<br>WWE 2K18<br>Ashes Cricket<br>Guitar Hero<br>Candy Crush Saga<br>FIFA 19<br>WWE SuperCard<br>HITMAN 2<br>Sea of Thieves</p></td>\n",
       "      <td><p>Call of Duty<br>Fortnite<br>The Elder Scrolls V: Skyrim<br>Grand Theft Auto<br>Football Manager<br>TETRIS<br>FIFA 19<br>Fallout<br>Clash of Clans<br>Clash Royale</p></td>\n",
       "      <td><p>Madden NFL 17<br>Madden NFL 18<br>NHL 16<br>FIFA 16<br>FIFA 06<br>Pro Evolution Soccer 6<br>Pro Evolution Soccer 2018<br>FIFA Football 2002<br>NHL 18<br>FIFA 06: Road to FIFA World Cup</p></td>\n",
       "      <td><p>The Elder Scrolls V: Skyrim<br>StarCraft<br>StarCraft: Brood War<br>Fortnite<br>Call of Duty<br>Fallout<br>Civilization V<br>The Elder Scrolls III: Morrowind<br>StarCraft II: Legacy of the Void<br>XCOM 2</p></td>\n",
       "    </tr>\n",
       "  </tbody>\n",
       "</table>"
      ],
      "text/plain": [
       "<IPython.core.display.HTML object>"
      ]
     },
     "metadata": {},
     "output_type": "display_data"
    }
   ],
   "source": [
    "recs = pd.concat([recs_mvn, recs_questions['recommendations'], recs_tags['recommendations'], \n",
    "                       recs_questionsxtags['recommendations']], axis=1)\n",
    "recs.columns = ['items', 'games', 'MVN', 'Questions', 'Tags', 'QuestionsXTags']\n",
    "display(HTML(recs.to_html(escape=False, formatters=fmt_allcols(recs), na_rep='')))"
   ]
  },
  {
   "cell_type": "markdown",
   "metadata": {},
   "source": [
    "Personally, I make the following judgments from these recommendations:\n",
    "1. The MVN model works well. The recommendations sometimes include popular but unrelated games.\n",
    "2. The Questions model recommends popular but unrelated games. The recommendations sometimes include related games.\n",
    "3. The Tags model works well. The recommendations only include very similar games.\n",
    "4. The Questions x Tags model recommends popular but unrelated games. "
   ]
  },
  {
   "cell_type": "markdown",
   "metadata": {},
   "source": [
    "## Qualitative (fixed)"
   ]
  },
  {
   "cell_type": "markdown",
   "metadata": {},
   "source": [
    "There are some ways to fix the 'popularity bias' in the recommendations. Here we present a very simple one.\n",
    "\n",
    "More popular games have more tags, so we create a more equal game features by filling possibly missing tags and normalizing each game feature vector:"
   ]
  },
  {
   "cell_type": "code",
   "execution_count": 27,
   "metadata": {},
   "outputs": [],
   "source": [
    "k = 32\n",
    "u, s, vt = sp.linalg.svds(sp.csr_matrix(tags, dtype=float), k=k)\n",
    "tagsx = tags.dot(vt.T)\n",
    "n = np.linalg.norm(tagsx, axis=1)\n",
    "n = np.where(n > 0.0, n, 1.0).reshape(-1,1)\n",
    "tagsx = sp.csr_matrix(tagsx/n)"
   ]
  },
  {
   "cell_type": "markdown",
   "metadata": {},
   "source": [
    "Instead of directly predicting game likes, we predict the standardized devations from baseline popularity. This is analogous to the z-score normalization:"
   ]
  },
  {
   "cell_type": "code",
   "execution_count": 28,
   "metadata": {},
   "outputs": [],
   "source": [
    "mu = games_train.sum(axis=0).A.flatten() / games_train.shape[0]\n",
    "std = np.where(mu > 0.0, np.sqrt(mu*(1.0-mu)), 1.0)\n",
    "games_train2 = sp.csr_matrix((games_train - mu) / std)"
   ]
  },
  {
   "cell_type": "code",
   "execution_count": 29,
   "metadata": {},
   "outputs": [
    {
     "name": "stdout",
     "output_type": "stream",
     "text": [
      "Precision@k 0.037\n"
     ]
    }
   ],
   "source": [
    "model = MVN_nobias(games_train)\n",
    "prc = precision_score_player(model.predict, games_test, games_train, k=20)\n",
    "print(\"Precision@k %.3f\" % prc)\n",
    "\n",
    "recs_mvn = display_validation_questions(validation_rows, model.predict, userids, games_train, gameids, \n",
    "                             data.games_covers, data.games_description,\n",
    "                            questions, questionids, data.items_description, n_recommendations=10)"
   ]
  },
  {
   "cell_type": "code",
   "execution_count": 30,
   "metadata": {},
   "outputs": [
    {
     "name": "stdout",
     "output_type": "stream",
     "text": [
      "Precision@k 0.010\n"
     ]
    }
   ],
   "source": [
    "model = Questions()\n",
    "model.fit(games_train2, questions, reg=1)\n",
    "prc = precision_score_player(model.predict, games_test, games_train, k=20)\n",
    "print(\"Precision@k %.3f\" % prc)\n",
    "\n",
    "recs_questions = display_validation_questions(validation_rows, model.predict, userids, games_train, gameids, \n",
    "                             data.games_covers, data.games_description,\n",
    "                            questions, questionids, data.items_description, n_recommendations=10)"
   ]
  },
  {
   "cell_type": "code",
   "execution_count": 31,
   "metadata": {},
   "outputs": [
    {
     "name": "stdout",
     "output_type": "stream",
     "text": [
      "Precision@k 0.007\n"
     ]
    }
   ],
   "source": [
    "model = Tags()\n",
    "model.fit(games_train2, tagsx, reg=1000)\n",
    "prc = precision_score_player(model.predict, games_test, games_train, k=20)\n",
    "print(\"Precision@k %.3f\" % prc)\n",
    "\n",
    "recs_tags = display_validation_questions(validation_rows, model.predict, userids, games_train, gameids, \n",
    "                             data.games_covers, data.games_description,\n",
    "                            questions, questionids, data.items_description, n_recommendations=10)"
   ]
  },
  {
   "cell_type": "code",
   "execution_count": 32,
   "metadata": {},
   "outputs": [
    {
     "name": "stdout",
     "output_type": "stream",
     "text": [
      "Precision@k 0.004\n"
     ]
    }
   ],
   "source": [
    "model = QuestionsXTags()\n",
    "model.fit(games_train2, questions, tagsx, reg=1)\n",
    "prc = precision_score_player(model.predict, games_test, games_train, k=20)\n",
    "print(\"Precision@k %.3f\" % prc)\n",
    "\n",
    "recs_questionsxtags = display_validation_questions(validation_rows, model.predict, userids, games_train, gameids, \n",
    "                             data.games_covers, data.games_description,\n",
    "                            questions, questionids, data.items_description, n_recommendations=10)"
   ]
  },
  {
   "cell_type": "markdown",
   "metadata": {},
   "source": [
    "These are the results:"
   ]
  },
  {
   "cell_type": "code",
   "execution_count": 33,
   "metadata": {},
   "outputs": [
    {
     "data": {
      "text/html": [
       "<table border=\"1\" class=\"dataframe\">\n",
       "  <thead>\n",
       "    <tr style=\"text-align: right;\">\n",
       "      <th></th>\n",
       "      <th>items</th>\n",
       "      <th>games</th>\n",
       "      <th>MVN</th>\n",
       "      <th>Questions</th>\n",
       "      <th>Tags</th>\n",
       "      <th>QuestionsXTags</th>\n",
       "    </tr>\n",
       "    <tr>\n",
       "      <th>userid</th>\n",
       "      <th></th>\n",
       "      <th></th>\n",
       "      <th></th>\n",
       "      <th></th>\n",
       "      <th></th>\n",
       "      <th></th>\n",
       "    </tr>\n",
       "  </thead>\n",
       "  <tbody>\n",
       "    <tr>\n",
       "      <th>93519</th>\n",
       "      <td><p>Engaging in battle<br>Weapons and skills selection for characters<br>Searching and collecting rare treasures</p></td>\n",
       "      <td><p>Child of Light<br>Dungeon Master<br>Shin Megami Tensei: Persona 3</p></td>\n",
       "      <td><p>Xenogears<br>Chrono Cross<br>Bravely Default<br>Shin Megami Tensei: Persona 4<br>Persona 5<br>Parallax<br>Skool Daze<br>Castle Master<br>Planetfall<br>Operation Stealth</p></td>\n",
       "      <td><p>Dead or Alive 5 Last Round<br>100 PICS Quiz<br>Stranglehold<br>Aldo's Adventure<br>Call of Juarez: Gunslinger<br>Turrican<br>80 Days<br>Diablo<br>Need for Speed: Porsche Unleashed<br>Mercs</p></td>\n",
       "      <td><p>Persona Q: Shadow of the Labyrinth<br>FINAL FANTASY XI: Ultimate Collection Seekers Edition<br>The Lords of Midnight<br>King's Field IV<br>Mordor: The Depths of Dejenol<br>Eye of the Beholder II: The Legend of Darkmoon<br>Might and Magic Book One: The Secret of the Inner Sanctum<br>The Bard's Tale II: The Destiny Knight<br>The Bard's Tale III: Thief of Fate<br>Sword Art Online: Memory Defrag</p></td>\n",
       "      <td><p>The Elder Scrolls V: Skyrim<br>The Elder Scrolls IV: Oblivion<br>Dragon's Dogma<br>Gothic II<br>Castlevania: Lords of Shadow 2<br>Dragon's Dogma: Dark Arisen<br>Wolfenstein: The Old Blood<br>BioShock Infinite<br>Fallout: New Vegas<br>METAL GEAR SOLID V: THE PHANTOM PAIN</p></td>\n",
       "    </tr>\n",
       "    <tr>\n",
       "      <th>93520</th>\n",
       "      <td><p>Piloting and steering vehicles<br>Racing in a high speed<br>Challenges of tactics</p></td>\n",
       "      <td><p>Project CARS<br>Gran Turismo 5<br>Forza Horizon 2</p></td>\n",
       "      <td><p>NBA Live 16<br>Gran Turismo 6<br>10000000<br>Die Hard Trilogy<br>Bullets And More VR - BAM VR<br>Time Clickers<br>Gran Turismo 4<br>Need for Speed: Underground<br>Forza Motorsport 6<br>DiRT Rally</p></td>\n",
       "      <td><p>Turtles<br>Call of Duty<br>Total War Battles: Shogun<br>Star Defender 4<br>Forza Horizon 4<br>Battle-field<br>Legions: Overdrive<br>Bomber<br>Grand Theft Auto<br>Same</p></td>\n",
       "      <td><p>Corvette Evolution GT<br>Gran Turismo 3: A-Spec<br>Need for Speed: Shift<br>Gran Turismo (PSP)<br>Gran Turismo 2<br>Forza Motorsport 4<br>Forza Motorsport 2<br>Midnight Club: Los Angeles<br>WRC 2: FIA World Rally Championship<br>Need for Speed: Porsche Unleashed</p></td>\n",
       "      <td><p>Forza Motorsport 4<br>Forza Motorsport 2<br>Real Racing<br>Blur<br>DiRT 3 Complete Edition<br>Crazy Taxi Classic<br>Rally Speedway<br>Hugo Troll Race<br>Car Racing<br>Jet Car Stunts 2</p></td>\n",
       "    </tr>\n",
       "    <tr>\n",
       "      <th>93521</th>\n",
       "      <td><p>Running in a fast speed while avoiding obstacles<br>Developing skills and abilities<br>Challenges of fast reaction</p></td>\n",
       "      <td><p>Shovel Knight<br>Super Mario 3D World<br>The Legend of Zelda: Ocarina of Time</p></td>\n",
       "      <td><p>The Legend of Zelda: Majora's Mask<br>Titan Souls<br>Super Mario 64<br>The Legend of Zelda: The Wind Waker<br>The Legend of Zelda: Breath of the Wild<br>ReCore<br>Yoshi's Woolly World<br>Teenage Zombies: Invasion of the Alien Brain Thingys!<br>NBA Playgrounds<br>Boost</p></td>\n",
       "      <td><p>Crossy Road<br>Dance Dance Revolution SuperNova<br>FIFA Football 2002<br>Vigilante 8<br>Mean City<br>Luminosity<br>Coin Master<br>Micro Machines<br>Ragnarok<br>Type:Rider</p></td>\n",
       "      <td><p>Terrian Saga: KR-17<br>Flicky<br>SuperTux<br>Papi Trampoline<br>Monkey Ball<br>Knytt Stories<br>Cookie Run<br>Tombi 2<br>Random Heroes<br>Donkey King</p></td>\n",
       "      <td><p>LittleBigPlanet Karting<br>Mario Bros.<br>Sonic Dash 2: Sonic Boom<br>Zombie Tsunami<br>Wizball<br>NBA Playgrounds<br>Ski Safari<br>Street Fighter X Tekken<br>BasketBall<br>APB: All Points Bulletin</p></td>\n",
       "    </tr>\n",
       "    <tr>\n",
       "      <th>93522</th>\n",
       "      <td><p>Hugging<br> kissing and making out<br>Investigating the story and its mysteries<br>Challenges of logical problem-solving</p></td>\n",
       "      <td><p>Heavy Rain<br>Steins;Gate<br>Life Is Strange</p></td>\n",
       "      <td><p>Beyond: Two Souls<br>Until Dawn<br>Life Is Strange: Before the Storm<br>Top Drives<br>Primal<br>The Walking Dead<br>L.A. Noire<br>Life is Strange 2<br>Brothers: A Tale of Two Sons<br>Vampyr</p></td>\n",
       "      <td><p>Sudoku<br>Farm Heroes Saga<br>Star Wars: X-Wing Alliance<br>Hyperdimension Neptunia Victory<br>Mystery Chronicle: One Way Heroics<br>Prince of Persia Classic<br>Prince of Persia 2: The Shadow and the Flame<br>Prince of Persia 3D<br>The Lost Valley<br>Galactic Junk League</p></td>\n",
       "      <td><p>Higurashi When They Cry Hou - Ch.1 Onikakushi<br>Higurashi When They Cry Hou - Ch.2 Watanagashi<br>The House in Fata Morgana<br>Higurashi When They Cry Hou - Ch.3 Tatarigoroshi<br>Analogue: A Hate Story<br>The Fruit of Grisaia<br>Lucid9: Inciting Incident<br>NEKOPARA Vol. 0<br>CLANNAD<br>G-senjou no Maou - The Devil on G-String</p></td>\n",
       "      <td><p>Pixel People<br>Trauma Center: Under the Knife 2<br>Riven: The Sequel to MYST<br>VVVVVV<br>Teslagrad<br>Underground<br>Antichamber<br>The Talos Principle<br>A Story About My Uncle<br>OPUS: The Day We Found Earth</p></td>\n",
       "    </tr>\n",
       "    <tr>\n",
       "      <th>93523</th>\n",
       "      <td><p>Decorating rooms and houses<br>Hugging<br> kissing and making out<br>Challenges of logical problem-solving</p></td>\n",
       "      <td><p>Cities: Skylines<br>Overcooked<br>The Sims 2</p></td>\n",
       "      <td><p>The Sims 3<br>The Sims 4<br>Shop Heroes<br>Medieval Engineers<br>IRONSIGHT<br>Tiny Brains<br>Solitairica<br>The Sims FreePlay<br>Planet Coaster<br>SimCity 4</p></td>\n",
       "      <td><p>Sudoku<br>Gardenscapes<br>Farm Heroes Saga<br>Dangerous Dungeons<br>Bubble Trouble<br>1010<br>Flow<br>Lume<br>Galactic Junk League<br>Pro Evolution Soccer 2018</p></td>\n",
       "      <td><p>Solitaire Deluxe 2<br>Rummikub<br>ACT IT OUT! A Game of Charades<br>Minions Paradise<br>Knowledge is Power<br>Agricultural Simulator 2013<br>Amateur Surgeon 4<br>Drawful 2<br>KleptoCats<br>Stars!</p></td>\n",
       "      <td><p>Infinifactory<br>Pixel People<br>Riven: The Sequel to MYST<br>Toon Blast<br>Buzz! Junior: Robo Jam<br>VVVVVV<br>SpaceChem<br>Trauma Center: Under the Knife 2<br>Underground<br>Myst V</p></td>\n",
       "    </tr>\n",
       "    <tr>\n",
       "      <th>93524</th>\n",
       "      <td><p>Waging war and conquering<br>Managing and directing cities and their inhabitants<br>Cratfing items and valuables by combining raw materials</p></td>\n",
       "      <td><p>Europa Universalis IV<br>Rome: Total War<br>Sid Meier's Civilization IV</p></td>\n",
       "      <td><p>Medieval II: Total War<br>Hearts of Iron IV<br>Crusader Kings II<br>Total War: Rome II<br>Empire: Total War<br>Medieval: Total War<br>Victoria II<br>Total War: SHOGUN 2<br>Shogun: Total War<br>Age of Conquest IV</p></td>\n",
       "      <td><p>T-Kara Puzzles<br>Captain Tsubasa J: The Way to World Youth<br>Enemy Territory: Quake Wars<br>Captain Tsubasa J: Get In The Tomorrow<br>Saber Marionette J: Battle Sabers<br>Terrian Saga: KR-17<br>X-Men Legends II: Rise of Apocalypse<br>Poker Night at the Inventory<br>Epic Battle Fantasy 3<br>The Flame in the Flood</p></td>\n",
       "      <td><p>Order of Battle: World War II<br>Civilization V<br>Panzer Corps<br>Close Combat - Gateway to Caen<br>Combat Mission: Beyond Overlord<br>Battle of the Bulge<br>Sengoku Jidai: Shadow of the Shogun<br>The Operational Art of War I: 1939-1955<br>Gary Grigsby's War in the East<br>Civilization VI</p></td>\n",
       "      <td><p>Total Annihilation<br>Command & Conquer: Generals<br>Great Little War Game<br>StarCraft: Brood War<br>Commandos 2: Men of Courage<br>Supreme Commander: Forged Alliance<br>Command & Conquer: Tiberian Sun<br>StarCraft<br>Company of Heroes 2<br>Company of Heroes Online</p></td>\n",
       "    </tr>\n",
       "    <tr>\n",
       "      <th>93525</th>\n",
       "      <td><p>Doing tricks in extreme sports<br>Team sports<br>Performing in sports</p></td>\n",
       "      <td><p>NHL 17<br>FIFA 18<br>WWE 2K19</p></td>\n",
       "      <td><p>WWE 2K18<br>Ashes Cricket<br>WWE SuperCard<br>FIFA 17<br>HITMAN 2<br>Guitar Hero Live<br>Guitar Hero Smash Hits<br>Guitar Hero: Van Halen<br>Automobilista<br>Guitar Hero World Tour</p></td>\n",
       "      <td><p>FIFA 19<br>Football Manager<br>Fortnite<br>Call of Duty<br>X-Plane 11<br>NBA 2K<br>Command & Conquer (2013)<br>Her Story<br>Mario Golf<br>Pro Evolution Soccer</p></td>\n",
       "      <td><p>Volleyball<br>MLB The Show 17<br>FIFA Football 2002<br>FIFA 06<br>Pro Evolution Soccer 6<br>FIFA 16<br>Pro Evolution Soccer 2018<br>Athens 2004<br>Madden NFL 13<br>NBA 2K17</p></td>\n",
       "      <td><p>MLB The Show 18<br>NBA Live 19<br>Virtual Pool<br>Strike<br>TAP SPORTS BASEBALL 2016<br>Pocket Soccer<br>FIFA 16 Soccer<br>NHL Powerplay '96<br>Cricket Captain<br>River City Super Sports Challenge</p></td>\n",
       "    </tr>\n",
       "  </tbody>\n",
       "</table>"
      ],
      "text/plain": [
       "<IPython.core.display.HTML object>"
      ]
     },
     "metadata": {},
     "output_type": "display_data"
    }
   ],
   "source": [
    "recs = pd.concat([recs_mvn, recs_questions['recommendations'], recs_tags['recommendations'], \n",
    "                       recs_questionsxtags['recommendations']], axis=1)\n",
    "recs.columns = ['items', 'games', 'MVN', 'Questions', 'Tags', 'QuestionsXTags']\n",
    "display(HTML(recs.to_html(escape=False, formatters=fmt_allcols(recs), na_rep='')))"
   ]
  },
  {
   "cell_type": "markdown",
   "metadata": {},
   "source": [
    "Personally, I make the following judgements from these recommendations:\n",
    "1. The MVN model works pretty well. There are sometimes unrelated and unpopular recommendations.\n",
    "2. The Question model works pretty well, though the questions are not very specific. There are sometimes unrelated and unpopular recommendations.\n",
    "3. The Tags model works pretty well. Now there are sometimes unpopular recommendations.\n",
    "4. The Questions x Tags model works pretty well, considering how unspecific the questions are.\n",
    "\n"
   ]
  },
  {
   "cell_type": "markdown",
   "metadata": {},
   "source": [
    "## Interpretation of results"
   ]
  },
  {
   "cell_type": "markdown",
   "metadata": {},
   "source": [
    "The four new models are very nice because they can be used to explain the game recommendations. In the following figure, we display the parameter matrices that the models have learned:\n",
    "1. MVN: learns the correlation of game likes from the observed player and game likes. This provides a 'game similarity matrix' of how similar each game is.\n",
    "2. Questions: learns how each game responds to each question. This provides a 'game profile' of what gaming preferences the game responds to.\n",
    "3. Tags: learns how each player responds to each tag. This provides a 'player profile' of what game content the player responds to.\n",
    "4. Questions x Tags: learns how each question interacts with each game tag. This provides an 'interaction matrix' between gaming prefences and game content."
   ]
  },
  {
   "cell_type": "markdown",
   "metadata": {},
   "source": [
    "<img src=\"data_parameters.png\" alt=\"Illustration of parameter matrices for different models\" style=\"height: 200px;\"/>"
   ]
  },
  {
   "cell_type": "markdown",
   "metadata": {},
   "source": [
    "We use the following examples to visualize certain rows or columns of these matrices:"
   ]
  },
  {
   "cell_type": "code",
   "execution_count": 41,
   "metadata": {},
   "outputs": [],
   "source": [
    "example_games = ['World of Warcraft', 'The Elder Scrolls V: Skyrim', 'Overwatch', 'TETRIS',  'The Witcher 3: Wild Hunt'] \n",
    "example_tags = ['Puzzle', 'Real-time Strategy', 'Dating Sim', 'Racing', 'Lara Croft']\n",
    "example_ids = userids[-data.n_validation:]\n",
    "example_questions = ['Exploring the gameworld and its secrets','Commanding units or troops',\n",
    "                 'Breeding, training and taking care of pets','Sniping to eliminate', 'Challenges of fast reaction',\n",
    "                 'Developing skills and abilities','Jumping on platforms and bouncing on walls']"
   ]
  },
  {
   "cell_type": "markdown",
   "metadata": {},
   "source": [
    "### SVD"
   ]
  },
  {
   "cell_type": "markdown",
   "metadata": {},
   "source": [
    "The SVD, or any other matrix factorization method, is not very interpretable. For example, lets learn 20 latent factors for each game and each player:"
   ]
  },
  {
   "cell_type": "code",
   "execution_count": 54,
   "metadata": {},
   "outputs": [],
   "source": [
    "model = SVD(k=20, epochs=256, reg=16)\n",
    "model.fit(games_train)"
   ]
  },
  {
   "cell_type": "markdown",
   "metadata": {},
   "source": [
    "These are the first 10 latent factors for our players:"
   ]
  },
  {
   "cell_type": "code",
   "execution_count": 59,
   "metadata": {},
   "outputs": [
    {
     "data": {
      "text/html": [
       "<div>\n",
       "<style scoped>\n",
       "    .dataframe tbody tr th:only-of-type {\n",
       "        vertical-align: middle;\n",
       "    }\n",
       "\n",
       "    .dataframe tbody tr th {\n",
       "        vertical-align: top;\n",
       "    }\n",
       "\n",
       "    .dataframe thead th {\n",
       "        text-align: right;\n",
       "    }\n",
       "</style>\n",
       "<table border=\"1\" class=\"dataframe\">\n",
       "  <thead>\n",
       "    <tr style=\"text-align: right;\">\n",
       "      <th></th>\n",
       "      <th>Factor #1</th>\n",
       "      <th>Factor #2</th>\n",
       "      <th>Factor #3</th>\n",
       "      <th>Factor #4</th>\n",
       "      <th>Factor #5</th>\n",
       "      <th>Factor #6</th>\n",
       "      <th>Factor #7</th>\n",
       "      <th>Factor #8</th>\n",
       "      <th>Factor #9</th>\n",
       "      <th>Factor #10</th>\n",
       "    </tr>\n",
       "  </thead>\n",
       "  <tbody>\n",
       "    <tr>\n",
       "      <th>15888</th>\n",
       "      <td>-0.000203</td>\n",
       "      <td>0.000389</td>\n",
       "      <td>0.000520</td>\n",
       "      <td>0.000015</td>\n",
       "      <td>0.002100</td>\n",
       "      <td>-0.001579</td>\n",
       "      <td>0.001242</td>\n",
       "      <td>0.000367</td>\n",
       "      <td>0.001913</td>\n",
       "      <td>-0.000577</td>\n",
       "    </tr>\n",
       "    <tr>\n",
       "      <th>15889</th>\n",
       "      <td>0.000366</td>\n",
       "      <td>0.000018</td>\n",
       "      <td>0.000795</td>\n",
       "      <td>0.000275</td>\n",
       "      <td>0.000670</td>\n",
       "      <td>-0.000181</td>\n",
       "      <td>0.000907</td>\n",
       "      <td>0.000368</td>\n",
       "      <td>-0.001548</td>\n",
       "      <td>0.000257</td>\n",
       "    </tr>\n",
       "    <tr>\n",
       "      <th>15890</th>\n",
       "      <td>-0.000056</td>\n",
       "      <td>0.000142</td>\n",
       "      <td>0.000761</td>\n",
       "      <td>0.000017</td>\n",
       "      <td>0.002771</td>\n",
       "      <td>-0.001779</td>\n",
       "      <td>0.001884</td>\n",
       "      <td>0.000199</td>\n",
       "      <td>0.001411</td>\n",
       "      <td>0.000062</td>\n",
       "    </tr>\n",
       "    <tr>\n",
       "      <th>15891</th>\n",
       "      <td>0.002287</td>\n",
       "      <td>0.001272</td>\n",
       "      <td>0.001033</td>\n",
       "      <td>-0.003574</td>\n",
       "      <td>0.005826</td>\n",
       "      <td>-0.002732</td>\n",
       "      <td>0.008972</td>\n",
       "      <td>0.001522</td>\n",
       "      <td>0.002634</td>\n",
       "      <td>-0.002412</td>\n",
       "    </tr>\n",
       "    <tr>\n",
       "      <th>15892</th>\n",
       "      <td>0.008355</td>\n",
       "      <td>-0.018209</td>\n",
       "      <td>0.005429</td>\n",
       "      <td>0.000252</td>\n",
       "      <td>-0.002980</td>\n",
       "      <td>0.000391</td>\n",
       "      <td>0.009923</td>\n",
       "      <td>-0.003525</td>\n",
       "      <td>0.002598</td>\n",
       "      <td>0.003376</td>\n",
       "    </tr>\n",
       "    <tr>\n",
       "      <th>15893</th>\n",
       "      <td>0.005661</td>\n",
       "      <td>-0.006626</td>\n",
       "      <td>0.005488</td>\n",
       "      <td>0.005070</td>\n",
       "      <td>-0.000143</td>\n",
       "      <td>0.000857</td>\n",
       "      <td>0.000273</td>\n",
       "      <td>-0.000410</td>\n",
       "      <td>0.002138</td>\n",
       "      <td>0.010162</td>\n",
       "    </tr>\n",
       "    <tr>\n",
       "      <th>15894</th>\n",
       "      <td>0.000818</td>\n",
       "      <td>0.000618</td>\n",
       "      <td>0.003166</td>\n",
       "      <td>0.000203</td>\n",
       "      <td>0.000893</td>\n",
       "      <td>-0.000356</td>\n",
       "      <td>0.001973</td>\n",
       "      <td>-0.000464</td>\n",
       "      <td>-0.005015</td>\n",
       "      <td>-0.000270</td>\n",
       "    </tr>\n",
       "  </tbody>\n",
       "</table>\n",
       "</div>"
      ],
      "text/plain": [
       "       Factor #1  Factor #2  Factor #3  Factor #4  Factor #5  Factor #6  \\\n",
       "15888 -0.000203   0.000389   0.000520   0.000015   0.002100  -0.001579    \n",
       "15889  0.000366   0.000018   0.000795   0.000275   0.000670  -0.000181    \n",
       "15890 -0.000056   0.000142   0.000761   0.000017   0.002771  -0.001779    \n",
       "15891  0.002287   0.001272   0.001033  -0.003574   0.005826  -0.002732    \n",
       "15892  0.008355  -0.018209   0.005429   0.000252  -0.002980   0.000391    \n",
       "15893  0.005661  -0.006626   0.005488   0.005070  -0.000143   0.000857    \n",
       "15894  0.000818   0.000618   0.003166   0.000203   0.000893  -0.000356    \n",
       "\n",
       "       Factor #7  Factor #8  Factor #9  Factor #10  \n",
       "15888  0.001242   0.000367   0.001913  -0.000577    \n",
       "15889  0.000907   0.000368  -0.001548   0.000257    \n",
       "15890  0.001884   0.000199   0.001411   0.000062    \n",
       "15891  0.008972   0.001522   0.002634  -0.002412    \n",
       "15892  0.009923  -0.003525   0.002598   0.003376    \n",
       "15893  0.000273  -0.000410   0.002138   0.010162    \n",
       "15894  0.001973  -0.000464  -0.005015  -0.000270    "
      ]
     },
     "execution_count": 59,
     "metadata": {},
     "output_type": "execute_result"
    }
   ],
   "source": [
    "U = model.model.user_factors\n",
    "U = pd.DataFrame(U, index=np.arange(U.shape[0])+1, columns=[\"Factor #%d\" % (i+1) for i in range(U.shape[1])])\n",
    "U.iloc[validation_rows,:10]"
   ]
  },
  {
   "cell_type": "markdown",
   "metadata": {},
   "source": [
    "These are the first 10 latent factors for our games:"
   ]
  },
  {
   "cell_type": "code",
   "execution_count": 60,
   "metadata": {},
   "outputs": [
    {
     "data": {
      "text/html": [
       "<div>\n",
       "<style scoped>\n",
       "    .dataframe tbody tr th:only-of-type {\n",
       "        vertical-align: middle;\n",
       "    }\n",
       "\n",
       "    .dataframe tbody tr th {\n",
       "        vertical-align: top;\n",
       "    }\n",
       "\n",
       "    .dataframe thead th {\n",
       "        text-align: right;\n",
       "    }\n",
       "</style>\n",
       "<table border=\"1\" class=\"dataframe\">\n",
       "  <thead>\n",
       "    <tr style=\"text-align: right;\">\n",
       "      <th></th>\n",
       "      <th>Factor #1</th>\n",
       "      <th>Factor #2</th>\n",
       "      <th>Factor #3</th>\n",
       "      <th>Factor #4</th>\n",
       "      <th>Factor #5</th>\n",
       "      <th>Factor #6</th>\n",
       "      <th>Factor #7</th>\n",
       "      <th>Factor #8</th>\n",
       "      <th>Factor #9</th>\n",
       "      <th>Factor #10</th>\n",
       "    </tr>\n",
       "  </thead>\n",
       "  <tbody>\n",
       "    <tr>\n",
       "      <th>World of Warcraft</th>\n",
       "      <td>-0.959256</td>\n",
       "      <td>0.551591</td>\n",
       "      <td>0.383498</td>\n",
       "      <td>-0.145334</td>\n",
       "      <td>-0.594459</td>\n",
       "      <td>1.941971</td>\n",
       "      <td>0.743882</td>\n",
       "      <td>0.962612</td>\n",
       "      <td>0.663666</td>\n",
       "      <td>-0.294085</td>\n",
       "    </tr>\n",
       "    <tr>\n",
       "      <th>The Elder Scrolls V: Skyrim</th>\n",
       "      <td>1.928381</td>\n",
       "      <td>0.084203</td>\n",
       "      <td>-0.278434</td>\n",
       "      <td>0.742805</td>\n",
       "      <td>0.024795</td>\n",
       "      <td>0.429161</td>\n",
       "      <td>0.722782</td>\n",
       "      <td>0.950737</td>\n",
       "      <td>0.713456</td>\n",
       "      <td>0.658172</td>\n",
       "    </tr>\n",
       "    <tr>\n",
       "      <th>Overwatch</th>\n",
       "      <td>0.281211</td>\n",
       "      <td>1.085757</td>\n",
       "      <td>0.283146</td>\n",
       "      <td>0.170403</td>\n",
       "      <td>0.191141</td>\n",
       "      <td>0.948119</td>\n",
       "      <td>-0.200128</td>\n",
       "      <td>-0.506644</td>\n",
       "      <td>0.617173</td>\n",
       "      <td>0.563720</td>\n",
       "    </tr>\n",
       "    <tr>\n",
       "      <th>TETRIS</th>\n",
       "      <td>-1.139836</td>\n",
       "      <td>0.002695</td>\n",
       "      <td>1.289299</td>\n",
       "      <td>0.825857</td>\n",
       "      <td>-0.233939</td>\n",
       "      <td>-0.327397</td>\n",
       "      <td>0.770481</td>\n",
       "      <td>-0.003112</td>\n",
       "      <td>0.041457</td>\n",
       "      <td>-0.256872</td>\n",
       "    </tr>\n",
       "    <tr>\n",
       "      <th>The Witcher 3: Wild Hunt</th>\n",
       "      <td>-0.212724</td>\n",
       "      <td>-0.063128</td>\n",
       "      <td>0.086844</td>\n",
       "      <td>0.271733</td>\n",
       "      <td>1.925287</td>\n",
       "      <td>-0.107191</td>\n",
       "      <td>0.360373</td>\n",
       "      <td>0.151076</td>\n",
       "      <td>0.107342</td>\n",
       "      <td>1.581252</td>\n",
       "    </tr>\n",
       "  </tbody>\n",
       "</table>\n",
       "</div>"
      ],
      "text/plain": [
       "                             Factor #1  Factor #2  Factor #3  Factor #4  \\\n",
       "World of Warcraft           -0.959256   0.551591   0.383498  -0.145334    \n",
       "The Elder Scrolls V: Skyrim  1.928381   0.084203  -0.278434   0.742805    \n",
       "Overwatch                    0.281211   1.085757   0.283146   0.170403    \n",
       "TETRIS                      -1.139836   0.002695   1.289299   0.825857    \n",
       "The Witcher 3: Wild Hunt    -0.212724  -0.063128   0.086844   0.271733    \n",
       "\n",
       "                             Factor #5  Factor #6  Factor #7  Factor #8  \\\n",
       "World of Warcraft           -0.594459   1.941971   0.743882   0.962612    \n",
       "The Elder Scrolls V: Skyrim  0.024795   0.429161   0.722782   0.950737    \n",
       "Overwatch                    0.191141   0.948119  -0.200128  -0.506644    \n",
       "TETRIS                      -0.233939  -0.327397   0.770481  -0.003112    \n",
       "The Witcher 3: Wild Hunt     1.925287  -0.107191   0.360373   0.151076    \n",
       "\n",
       "                             Factor #9  Factor #10  \n",
       "World of Warcraft            0.663666  -0.294085    \n",
       "The Elder Scrolls V: Skyrim  0.713456   0.658172    \n",
       "Overwatch                    0.617173   0.563720    \n",
       "TETRIS                       0.041457  -0.256872    \n",
       "The Witcher 3: Wild Hunt     0.107342   1.581252    "
      ]
     },
     "execution_count": 60,
     "metadata": {},
     "output_type": "execute_result"
    }
   ],
   "source": [
    "V = model.model.item_factors\n",
    "V = pd.DataFrame(V, index=gameids, columns=[\"Factor #%d\" % (i+1) for i in range(V.shape[1])])\n",
    "V.index = V.index.map(data.games_description)\n",
    "V.loc[example_games,].iloc[:,:10]"
   ]
  },
  {
   "cell_type": "markdown",
   "metadata": {},
   "source": [
    "But who has any idea of what they mean? \n",
    "\n",
    "(actually there is a trick to extract a similarity matrix from these latent factors... but the MVN model makes it more formal and explicit)"
   ]
  },
  {
   "cell_type": "markdown",
   "metadata": {},
   "source": [
    "### MVN"
   ]
  },
  {
   "cell_type": "markdown",
   "metadata": {},
   "source": [
    "We use the unbiased MVN model because the correlation matrix is simpler to interpret than the covariance matrix:"
   ]
  },
  {
   "cell_type": "code",
   "execution_count": 35,
   "metadata": {},
   "outputs": [],
   "source": [
    "model = MVN_nobias(games_train)"
   ]
  },
  {
   "cell_type": "markdown",
   "metadata": {},
   "source": [
    "The correlation matrix provides a similarity score between every game. For example, we infer from the data that 'The Elder Scrolls V: Skyrim' is very close to 'The Withcer 3: Wild Hunt' but dissimilar to 'TETRIS':"
   ]
  },
  {
   "cell_type": "code",
   "execution_count": 36,
   "metadata": {},
   "outputs": [
    {
     "data": {
      "text/html": [
       "<div>\n",
       "<style scoped>\n",
       "    .dataframe tbody tr th:only-of-type {\n",
       "        vertical-align: middle;\n",
       "    }\n",
       "\n",
       "    .dataframe tbody tr th {\n",
       "        vertical-align: top;\n",
       "    }\n",
       "\n",
       "    .dataframe thead th {\n",
       "        text-align: right;\n",
       "    }\n",
       "</style>\n",
       "<table border=\"1\" class=\"dataframe\">\n",
       "  <thead>\n",
       "    <tr style=\"text-align: right;\">\n",
       "      <th>name</th>\n",
       "      <th>World of Warcraft</th>\n",
       "      <th>The Elder Scrolls V: Skyrim</th>\n",
       "      <th>Overwatch</th>\n",
       "      <th>TETRIS</th>\n",
       "      <th>The Witcher 3: Wild Hunt</th>\n",
       "    </tr>\n",
       "    <tr>\n",
       "      <th>name</th>\n",
       "      <th></th>\n",
       "      <th></th>\n",
       "      <th></th>\n",
       "      <th></th>\n",
       "      <th></th>\n",
       "    </tr>\n",
       "  </thead>\n",
       "  <tbody>\n",
       "    <tr>\n",
       "      <th>World of Warcraft</th>\n",
       "      <td>1.000000</td>\n",
       "      <td>0.017016</td>\n",
       "      <td>0.065028</td>\n",
       "      <td>-0.040957</td>\n",
       "      <td>0.024343</td>\n",
       "    </tr>\n",
       "    <tr>\n",
       "      <th>The Elder Scrolls V: Skyrim</th>\n",
       "      <td>0.017016</td>\n",
       "      <td>1.000000</td>\n",
       "      <td>0.028462</td>\n",
       "      <td>-0.046123</td>\n",
       "      <td>0.159341</td>\n",
       "    </tr>\n",
       "    <tr>\n",
       "      <th>Overwatch</th>\n",
       "      <td>0.065028</td>\n",
       "      <td>0.028462</td>\n",
       "      <td>1.000000</td>\n",
       "      <td>-0.036149</td>\n",
       "      <td>0.034190</td>\n",
       "    </tr>\n",
       "    <tr>\n",
       "      <th>TETRIS</th>\n",
       "      <td>-0.040957</td>\n",
       "      <td>-0.046123</td>\n",
       "      <td>-0.036149</td>\n",
       "      <td>1.000000</td>\n",
       "      <td>-0.042000</td>\n",
       "    </tr>\n",
       "    <tr>\n",
       "      <th>The Witcher 3: Wild Hunt</th>\n",
       "      <td>0.024343</td>\n",
       "      <td>0.159341</td>\n",
       "      <td>0.034190</td>\n",
       "      <td>-0.042000</td>\n",
       "      <td>1.000000</td>\n",
       "    </tr>\n",
       "  </tbody>\n",
       "</table>\n",
       "</div>"
      ],
      "text/plain": [
       "name                         World of Warcraft  The Elder Scrolls V: Skyrim  \\\n",
       "name                                                                          \n",
       "World of Warcraft            1.000000           0.017016                      \n",
       "The Elder Scrolls V: Skyrim  0.017016           1.000000                      \n",
       "Overwatch                    0.065028           0.028462                      \n",
       "TETRIS                      -0.040957          -0.046123                      \n",
       "The Witcher 3: Wild Hunt     0.024343           0.159341                      \n",
       "\n",
       "name                         Overwatch    TETRIS  The Witcher 3: Wild Hunt  \n",
       "name                                                                        \n",
       "World of Warcraft            0.065028  -0.040957  0.024343                  \n",
       "The Elder Scrolls V: Skyrim  0.028462  -0.046123  0.159341                  \n",
       "Overwatch                    1.000000  -0.036149  0.034190                  \n",
       "TETRIS                      -0.036149   1.000000 -0.042000                  \n",
       "The Witcher 3: Wild Hunt     0.034190  -0.042000  1.000000                  "
      ]
     },
     "execution_count": 36,
     "metadata": {},
     "output_type": "execute_result"
    }
   ],
   "source": [
    "coefs = pd.DataFrame(model.cov, index=data.games_description[gameids], columns=data.games_description[gameids])\n",
    "coefs.loc[example_games, example_games]"
   ]
  },
  {
   "cell_type": "markdown",
   "metadata": {},
   "source": [
    "Using this matrix, we can for example fetch the 10 most related games to every example game. The results are very good:"
   ]
  },
  {
   "cell_type": "code",
   "execution_count": 37,
   "metadata": {},
   "outputs": [
    {
     "name": "stdout",
     "output_type": "stream",
     "text": [
      "World of Warcraft\n",
      "\t Diablo II\n",
      "\t Warcraft III: Reign of Chaos\n",
      "\t Heroes of the Storm\n",
      "\t Diablo III\n",
      "\t Hearthstone\n",
      "\t Star Wars: The Old Republic\n",
      "\t Overwatch\n",
      "\t Dark Age of Camelot\n",
      "\t Warcraft: Orcs & Humans\n",
      "The Elder Scrolls V: Skyrim\n",
      "\t The Elder Scrolls IV: Oblivion\n",
      "\t The Witcher 3: Wild Hunt\n",
      "\t The Elder Scrolls III: Morrowind\n",
      "\t Fallout 4\n",
      "\t Fallout: New Vegas\n",
      "\t Dragon Age: Origins\n",
      "\t Fallout 3\n",
      "\t The Elder Scrolls Online\n",
      "\t Dragon Age: Inquisition\n",
      "Overwatch\n",
      "\t League of Legends\n",
      "\t World of Warcraft\n",
      "\t Team Fortress 2\n",
      "\t Destiny 2\n",
      "\t Heroes of the Storm\n",
      "\t Sudden Attack\n",
      "\t The Impossible Game\n",
      "\t Seasons after Fall\n",
      "\t Cuphead\n",
      "TETRIS\n",
      "\t Space Invaders\n",
      "\t Super Mario Bros.\n",
      "\t Snake\n",
      "\t Candy Crush Saga\n",
      "\t 1942\n",
      "\t The New Tetris\n",
      "\t Bubble Bobble\n",
      "\t Raid over Moscow\n",
      "\t Paper Toss\n",
      "The Witcher 3: Wild Hunt\n",
      "\t The Witcher 2: Assassins Of Kings\n",
      "\t The Elder Scrolls V: Skyrim\n",
      "\t The Witcher: Enhanced Edition Director's Cut\n",
      "\t The Witcher\n",
      "\t Mass Effect 2\n",
      "\t Mass Effect 3\n",
      "\t Dragon Age: Origins\n",
      "\t Mass Effect\n",
      "\t Gwent: The Witcher Card Game\n"
     ]
    }
   ],
   "source": [
    "for game in example_games:\n",
    "    print(game)\n",
    "    for game_related in coefs[game].sort_values(ascending=False).head(10).index.values[1:]:\n",
    "        print(\"\\t\", game_related)"
   ]
  },
  {
   "cell_type": "markdown",
   "metadata": {},
   "source": [
    "### Questions X Tags"
   ]
  },
  {
   "cell_type": "code",
   "execution_count": 38,
   "metadata": {},
   "outputs": [],
   "source": [
    "model = QuestionsXTags()\n",
    "model.fit(games_train, questions, tags, reg=1)"
   ]
  },
  {
   "cell_type": "markdown",
   "metadata": {},
   "source": [
    "It is a bit of work to extract the interaction matrix from a vector of learned parameters:"
   ]
  },
  {
   "cell_type": "code",
   "execution_count": 39,
   "metadata": {},
   "outputs": [],
   "source": [
    "W = model.learner.predictor.W\n",
    "d1 = questions.shape[1]\n",
    "d2 = tags.shape[1]\n",
    "coefs = pd.DataFrame([(questionids[i], tagids[j], W[j*d1 + i]) for i in range(d1) for j in range(d2)], \n",
    "                     columns=['questionid', 'tagid', 'coef'])\n",
    "coefs['question'] = coefs['questionid'].map(data.items_description)\n",
    "coefs['tag'] = coefs['tagid'].map(data.tags_description)\n",
    "coefs = coefs.pivot(columns='tag', index='question', values='coef')"
   ]
  },
  {
   "cell_type": "markdown",
   "metadata": {},
   "source": [
    "Each game preference is associated to each game tag. For example, 'Dating Sim' interacts strongly with liking 'Breeding, training and taking care of pets', and 'Lara Croft' intercats strongly with liking 'Jumping on platforms and bouncing on walls' in the questionnaire:"
   ]
  },
  {
   "cell_type": "code",
   "execution_count": 42,
   "metadata": {},
   "outputs": [
    {
     "data": {
      "text/html": [
       "<div>\n",
       "<style scoped>\n",
       "    .dataframe tbody tr th:only-of-type {\n",
       "        vertical-align: middle;\n",
       "    }\n",
       "\n",
       "    .dataframe tbody tr th {\n",
       "        vertical-align: top;\n",
       "    }\n",
       "\n",
       "    .dataframe thead th {\n",
       "        text-align: right;\n",
       "    }\n",
       "</style>\n",
       "<table border=\"1\" class=\"dataframe\">\n",
       "  <thead>\n",
       "    <tr style=\"text-align: right;\">\n",
       "      <th>tag</th>\n",
       "      <th>Puzzle</th>\n",
       "      <th>Real-time Strategy</th>\n",
       "      <th>Dating Sim</th>\n",
       "      <th>Racing</th>\n",
       "      <th>Lara Croft</th>\n",
       "    </tr>\n",
       "    <tr>\n",
       "      <th>question</th>\n",
       "      <th></th>\n",
       "      <th></th>\n",
       "      <th></th>\n",
       "      <th></th>\n",
       "      <th></th>\n",
       "    </tr>\n",
       "  </thead>\n",
       "  <tbody>\n",
       "    <tr>\n",
       "      <th>Exploring the gameworld and its secrets</th>\n",
       "      <td>-0.04</td>\n",
       "      <td>-0.09</td>\n",
       "      <td>0.68</td>\n",
       "      <td>-0.12</td>\n",
       "      <td>0.34</td>\n",
       "    </tr>\n",
       "    <tr>\n",
       "      <th>Commanding units or troops</th>\n",
       "      <td>0.16</td>\n",
       "      <td>-0.07</td>\n",
       "      <td>0.26</td>\n",
       "      <td>0.02</td>\n",
       "      <td>-1.02</td>\n",
       "    </tr>\n",
       "    <tr>\n",
       "      <th>Breeding, training and taking care of pets</th>\n",
       "      <td>-0.12</td>\n",
       "      <td>-0.12</td>\n",
       "      <td>0.88</td>\n",
       "      <td>-0.12</td>\n",
       "      <td>0.44</td>\n",
       "    </tr>\n",
       "    <tr>\n",
       "      <th>Sniping to eliminate</th>\n",
       "      <td>-0.39</td>\n",
       "      <td>0.08</td>\n",
       "      <td>-1.25</td>\n",
       "      <td>0.11</td>\n",
       "      <td>0.53</td>\n",
       "    </tr>\n",
       "    <tr>\n",
       "      <th>Challenges of fast reaction</th>\n",
       "      <td>-0.20</td>\n",
       "      <td>-0.22</td>\n",
       "      <td>-0.98</td>\n",
       "      <td>0.07</td>\n",
       "      <td>1.22</td>\n",
       "    </tr>\n",
       "    <tr>\n",
       "      <th>Developing skills and abilities</th>\n",
       "      <td>0.04</td>\n",
       "      <td>-0.01</td>\n",
       "      <td>0.24</td>\n",
       "      <td>-0.28</td>\n",
       "      <td>1.99</td>\n",
       "    </tr>\n",
       "    <tr>\n",
       "      <th>Jumping on platforms and bouncing on walls</th>\n",
       "      <td>-0.13</td>\n",
       "      <td>-0.22</td>\n",
       "      <td>0.59</td>\n",
       "      <td>0.12</td>\n",
       "      <td>3.60</td>\n",
       "    </tr>\n",
       "  </tbody>\n",
       "</table>\n",
       "</div>"
      ],
      "text/plain": [
       "tag                                         Puzzle  Real-time Strategy  \\\n",
       "question                                                                 \n",
       "Exploring the gameworld and its secrets    -0.04   -0.09                 \n",
       "Commanding units or troops                  0.16   -0.07                 \n",
       "Breeding, training and taking care of pets -0.12   -0.12                 \n",
       "Sniping to eliminate                       -0.39    0.08                 \n",
       "Challenges of fast reaction                -0.20   -0.22                 \n",
       "Developing skills and abilities             0.04   -0.01                 \n",
       "Jumping on platforms and bouncing on walls -0.13   -0.22                 \n",
       "\n",
       "tag                                         Dating Sim  Racing  Lara Croft  \n",
       "question                                                                    \n",
       "Exploring the gameworld and its secrets     0.68       -0.12    0.34        \n",
       "Commanding units or troops                  0.26        0.02   -1.02        \n",
       "Breeding, training and taking care of pets  0.88       -0.12    0.44        \n",
       "Sniping to eliminate                       -1.25        0.11    0.53        \n",
       "Challenges of fast reaction                -0.98        0.07    1.22        \n",
       "Developing skills and abilities             0.24       -0.28    1.99        \n",
       "Jumping on platforms and bouncing on walls  0.59        0.12    3.60        "
      ]
     },
     "execution_count": 42,
     "metadata": {},
     "output_type": "execute_result"
    }
   ],
   "source": [
    "df = coefs.loc[example_questions,example_tags]\n",
    "(df*10000).round(2)"
   ]
  },
  {
   "cell_type": "markdown",
   "metadata": {},
   "source": [
    "For example, we can take the example tags and see what gaming preferences interact most strongly with them. It is quite magical how well this can be learned from the game likes:"
   ]
  },
  {
   "cell_type": "code",
   "execution_count": 43,
   "metadata": {},
   "outputs": [
    {
     "name": "stdout",
     "output_type": "stream",
     "text": [
      "Puzzle\n",
      "\t Challenges of crosswords and other word puzzles\n",
      "\t Challenges of logical problem-solving\n",
      "\t Matching tiles or shapes together\n",
      "\t Challenges of creative problem-solving\n",
      "\t Empathizing and taking on roles\n",
      "Real-time Strategy\n",
      "\t Challenges of strategy and strategic thinking\n",
      "\t Challenges of tactics\n",
      "\t Waging war and conquering\n",
      "\t Doing tricks in extreme sports\n",
      "\t Challenges of acting in a constant hurry\n",
      "Dating Sim\n",
      "\t Gardening and taking care of farms\n",
      "\t Dancing to the music\n",
      "\t Decorating rooms and houses\n",
      "\t Breeding, training and taking care of pets\n",
      "\t Dressing up, applying make up and choosing looks\n",
      "Racing\n",
      "\t Fighting with martial arts\n",
      "\t Challenges of logical problem-solving\n",
      "\t Piloting and steering vehicles\n",
      "\t Producing vehicles, units or weaponry\n",
      "\t Defending your territory, city or base (Tower defense)\n",
      "Lara Croft\n",
      "\t Searching and collecting rare treasures\n",
      "\t Jumping on platforms and bouncing on walls\n",
      "\t Challenges of mazes and labyrinths\n",
      "\t Investigating the story and its mysteries\n",
      "\t Sneaking and Laying Traps\n"
     ]
    }
   ],
   "source": [
    "for tag in example_tags:\n",
    "    print(tag)\n",
    "    for item_related in coefs[tag].sort_values(ascending=False).head(5).index.values:\n",
    "        print(\"\\t\", item_related)\n",
    "    "
   ]
  },
  {
   "cell_type": "markdown",
   "metadata": {},
   "source": [
    "### Questions"
   ]
  },
  {
   "cell_type": "code",
   "execution_count": 47,
   "metadata": {},
   "outputs": [],
   "source": [
    "model = Questions()\n",
    "model.fit(games_train, items, reg=1)"
   ]
  },
  {
   "cell_type": "markdown",
   "metadata": {},
   "source": [
    "Each game has its own vector of what game preferences it responds to. For example, 'World of Warcraft' responds to liking 'Exploring the gameworld and its secrets', whereas 'TETRIS' responds to 'Challenges of fast reaction':"
   ]
  },
  {
   "cell_type": "code",
   "execution_count": 48,
   "metadata": {},
   "outputs": [
    {
     "data": {
      "text/html": [
       "<div>\n",
       "<style scoped>\n",
       "    .dataframe tbody tr th:only-of-type {\n",
       "        vertical-align: middle;\n",
       "    }\n",
       "\n",
       "    .dataframe tbody tr th {\n",
       "        vertical-align: top;\n",
       "    }\n",
       "\n",
       "    .dataframe thead th {\n",
       "        text-align: right;\n",
       "    }\n",
       "</style>\n",
       "<table border=\"1\" class=\"dataframe\">\n",
       "  <thead>\n",
       "    <tr style=\"text-align: right;\">\n",
       "      <th>name</th>\n",
       "      <th>World of Warcraft</th>\n",
       "      <th>The Elder Scrolls V: Skyrim</th>\n",
       "      <th>Overwatch</th>\n",
       "      <th>TETRIS</th>\n",
       "      <th>The Witcher 3: Wild Hunt</th>\n",
       "    </tr>\n",
       "    <tr>\n",
       "      <th>name</th>\n",
       "      <th></th>\n",
       "      <th></th>\n",
       "      <th></th>\n",
       "      <th></th>\n",
       "      <th></th>\n",
       "    </tr>\n",
       "  </thead>\n",
       "  <tbody>\n",
       "    <tr>\n",
       "      <th>Exploring the gameworld and its secrets</th>\n",
       "      <td>0.70</td>\n",
       "      <td>0.48</td>\n",
       "      <td>0.39</td>\n",
       "      <td>-0.28</td>\n",
       "      <td>0.35</td>\n",
       "    </tr>\n",
       "    <tr>\n",
       "      <th>Commanding units or troops</th>\n",
       "      <td>-0.04</td>\n",
       "      <td>0.03</td>\n",
       "      <td>0.08</td>\n",
       "      <td>0.39</td>\n",
       "      <td>0.11</td>\n",
       "    </tr>\n",
       "    <tr>\n",
       "      <th>Breeding, training and taking care of pets</th>\n",
       "      <td>0.23</td>\n",
       "      <td>-0.06</td>\n",
       "      <td>0.20</td>\n",
       "      <td>-0.30</td>\n",
       "      <td>0.02</td>\n",
       "    </tr>\n",
       "    <tr>\n",
       "      <th>Sniping to eliminate</th>\n",
       "      <td>-0.85</td>\n",
       "      <td>-1.11</td>\n",
       "      <td>0.68</td>\n",
       "      <td>-0.78</td>\n",
       "      <td>-0.87</td>\n",
       "    </tr>\n",
       "    <tr>\n",
       "      <th>Challenges of fast reaction</th>\n",
       "      <td>-0.54</td>\n",
       "      <td>-0.60</td>\n",
       "      <td>0.36</td>\n",
       "      <td>1.16</td>\n",
       "      <td>-0.62</td>\n",
       "    </tr>\n",
       "    <tr>\n",
       "      <th>Developing skills and abilities</th>\n",
       "      <td>0.62</td>\n",
       "      <td>0.65</td>\n",
       "      <td>0.31</td>\n",
       "      <td>-0.11</td>\n",
       "      <td>0.40</td>\n",
       "    </tr>\n",
       "    <tr>\n",
       "      <th>Jumping on platforms and bouncing on walls</th>\n",
       "      <td>-0.18</td>\n",
       "      <td>0.31</td>\n",
       "      <td>0.11</td>\n",
       "      <td>0.15</td>\n",
       "      <td>0.18</td>\n",
       "    </tr>\n",
       "  </tbody>\n",
       "</table>\n",
       "</div>"
      ],
      "text/plain": [
       "name                                        World of Warcraft  \\\n",
       "name                                                            \n",
       "Exploring the gameworld and its secrets     0.70                \n",
       "Commanding units or troops                 -0.04                \n",
       "Breeding, training and taking care of pets  0.23                \n",
       "Sniping to eliminate                       -0.85                \n",
       "Challenges of fast reaction                -0.54                \n",
       "Developing skills and abilities             0.62                \n",
       "Jumping on platforms and bouncing on walls -0.18                \n",
       "\n",
       "name                                        The Elder Scrolls V: Skyrim  \\\n",
       "name                                                                      \n",
       "Exploring the gameworld and its secrets     0.48                          \n",
       "Commanding units or troops                  0.03                          \n",
       "Breeding, training and taking care of pets -0.06                          \n",
       "Sniping to eliminate                       -1.11                          \n",
       "Challenges of fast reaction                -0.60                          \n",
       "Developing skills and abilities             0.65                          \n",
       "Jumping on platforms and bouncing on walls  0.31                          \n",
       "\n",
       "name                                        Overwatch  TETRIS  \\\n",
       "name                                                            \n",
       "Exploring the gameworld and its secrets     0.39      -0.28     \n",
       "Commanding units or troops                  0.08       0.39     \n",
       "Breeding, training and taking care of pets  0.20      -0.30     \n",
       "Sniping to eliminate                        0.68      -0.78     \n",
       "Challenges of fast reaction                 0.36       1.16     \n",
       "Developing skills and abilities             0.31      -0.11     \n",
       "Jumping on platforms and bouncing on walls  0.11       0.15     \n",
       "\n",
       "name                                        The Witcher 3: Wild Hunt  \n",
       "name                                                                  \n",
       "Exploring the gameworld and its secrets     0.35                      \n",
       "Commanding units or troops                  0.11                      \n",
       "Breeding, training and taking care of pets  0.02                      \n",
       "Sniping to eliminate                       -0.87                      \n",
       "Challenges of fast reaction                -0.62                      \n",
       "Developing skills and abilities             0.40                      \n",
       "Jumping on platforms and bouncing on walls  0.18                      "
      ]
     },
     "execution_count": 48,
     "metadata": {},
     "output_type": "execute_result"
    }
   ],
   "source": [
    "coefs = pd.DataFrame(model.item_features.T, index=data.items_description[itemids], columns=data.games_description[gameids])\n",
    "df = coefs.loc[example_items,example_games]\n",
    "(df*100).round(2)"
   ]
  },
  {
   "cell_type": "markdown",
   "metadata": {},
   "source": [
    "We can take the example games and visualize what game prefences they respond to most strongly:"
   ]
  },
  {
   "cell_type": "code",
   "execution_count": 49,
   "metadata": {},
   "outputs": [
    {
     "name": "stdout",
     "output_type": "stream",
     "text": [
      "World of Warcraft\n",
      "\t Exploring the gameworld and its secrets\n",
      "\t Developing skills and abilities\n",
      "\t Investigating the story and its mysteries\n",
      "\t Searching and collecting rare treasures\n",
      "\t Killing and Murdering\n",
      "The Elder Scrolls V: Skyrim\n",
      "\t Developing skills and abilities\n",
      "\t Befriending with in-game characters\n",
      "\t Killing and Murdering\n",
      "\t Investigating the story and its mysteries\n",
      "\t Searching and collecting rare treasures\n",
      "Overwatch\n",
      "\t Challenges of acting in a constant hurry\n",
      "\t Sniping to eliminate\n",
      "\t Exploring the gameworld and its secrets\n",
      "\t Searching and collecting rare treasures\n",
      "\t Defending your territory, city or base (Tower defense)\n",
      "TETRIS\n",
      "\t Challenges of memorizing\n",
      "\t Challenges of crosswords and other word puzzles\n",
      "\t Challenges of fast reaction\n",
      "\t Matching tiles or shapes together\n",
      "\t Challenges of logical problem-solving\n",
      "The Witcher 3: Wild Hunt\n",
      "\t Making meaningful choices and having decisive dialogues\n",
      "\t Searching and collecting rare treasures\n",
      "\t Moving to the beat and staying in the rhythm\n",
      "\t Helping others in need\n",
      "\t Investigating the story and its mysteries\n"
     ]
    }
   ],
   "source": [
    "for game in example_games:\n",
    "    print(coefs[game].name)\n",
    "    for item_related in coefs[game].sort_values(ascending=False).head(5).index.values:\n",
    "        print(\"\\t\", item_related)\n"
   ]
  },
  {
   "cell_type": "markdown",
   "metadata": {},
   "source": [
    "### Tags"
   ]
  },
  {
   "cell_type": "code",
   "execution_count": 50,
   "metadata": {},
   "outputs": [],
   "source": [
    "model = Tags()\n",
    "model.fit(games_train, tags, reg=1000)"
   ]
  },
  {
   "cell_type": "markdown",
   "metadata": {},
   "source": [
    "Each player has a vector of how they respond to game tags. For example, the first player seems to like games with the tag 'Dating Sim', and the second player games with the tag 'Racing':"
   ]
  },
  {
   "cell_type": "code",
   "execution_count": 52,
   "metadata": {},
   "outputs": [
    {
     "data": {
      "text/html": [
       "<div>\n",
       "<style scoped>\n",
       "    .dataframe tbody tr th:only-of-type {\n",
       "        vertical-align: middle;\n",
       "    }\n",
       "\n",
       "    .dataframe tbody tr th {\n",
       "        vertical-align: top;\n",
       "    }\n",
       "\n",
       "    .dataframe thead th {\n",
       "        text-align: right;\n",
       "    }\n",
       "</style>\n",
       "<table border=\"1\" class=\"dataframe\">\n",
       "  <thead>\n",
       "    <tr style=\"text-align: right;\">\n",
       "      <th>name</th>\n",
       "      <th>Puzzle</th>\n",
       "      <th>Real-time Strategy</th>\n",
       "      <th>Dating Sim</th>\n",
       "      <th>Racing</th>\n",
       "      <th>Lara Croft</th>\n",
       "    </tr>\n",
       "  </thead>\n",
       "  <tbody>\n",
       "    <tr>\n",
       "      <th>93519</th>\n",
       "      <td>-2.37</td>\n",
       "      <td>-0.04</td>\n",
       "      <td>8.37</td>\n",
       "      <td>-0.79</td>\n",
       "      <td>0.07</td>\n",
       "    </tr>\n",
       "    <tr>\n",
       "      <th>93520</th>\n",
       "      <td>-1.22</td>\n",
       "      <td>0.06</td>\n",
       "      <td>-0.31</td>\n",
       "      <td>11.74</td>\n",
       "      <td>0.01</td>\n",
       "    </tr>\n",
       "    <tr>\n",
       "      <th>93521</th>\n",
       "      <td>0.88</td>\n",
       "      <td>-0.11</td>\n",
       "      <td>-0.28</td>\n",
       "      <td>5.66</td>\n",
       "      <td>-0.18</td>\n",
       "    </tr>\n",
       "    <tr>\n",
       "      <th>93522</th>\n",
       "      <td>0.58</td>\n",
       "      <td>0.35</td>\n",
       "      <td>7.33</td>\n",
       "      <td>-1.75</td>\n",
       "      <td>-0.16</td>\n",
       "    </tr>\n",
       "    <tr>\n",
       "      <th>93523</th>\n",
       "      <td>-2.52</td>\n",
       "      <td>-3.71</td>\n",
       "      <td>7.96</td>\n",
       "      <td>-2.63</td>\n",
       "      <td>0.09</td>\n",
       "    </tr>\n",
       "    <tr>\n",
       "      <th>93524</th>\n",
       "      <td>-0.07</td>\n",
       "      <td>7.59</td>\n",
       "      <td>-0.26</td>\n",
       "      <td>-1.10</td>\n",
       "      <td>0.01</td>\n",
       "    </tr>\n",
       "    <tr>\n",
       "      <th>93525</th>\n",
       "      <td>-0.74</td>\n",
       "      <td>-0.82</td>\n",
       "      <td>0.09</td>\n",
       "      <td>-3.34</td>\n",
       "      <td>-0.06</td>\n",
       "    </tr>\n",
       "  </tbody>\n",
       "</table>\n",
       "</div>"
      ],
      "text/plain": [
       "name   Puzzle  Real-time Strategy  Dating Sim  Racing  Lara Croft\n",
       "93519 -2.37   -0.04                8.37       -0.79    0.07      \n",
       "93520 -1.22    0.06               -0.31        11.74   0.01      \n",
       "93521  0.88   -0.11               -0.28        5.66   -0.18      \n",
       "93522  0.58    0.35                7.33       -1.75   -0.16      \n",
       "93523 -2.52   -3.71                7.96       -2.63    0.09      \n",
       "93524 -0.07    7.59               -0.26       -1.10    0.01      \n",
       "93525 -0.74   -0.82                0.09       -3.34   -0.06      "
      ]
     },
     "execution_count": 52,
     "metadata": {},
     "output_type": "execute_result"
    }
   ],
   "source": [
    "coefs = pd.DataFrame(model.user_features, index=userids, columns=data.tags_description[tagids])\n",
    "df = coefs.loc[example_ids,example_tags]\n",
    "(df*10000).round(2)"
   ]
  },
  {
   "cell_type": "markdown",
   "metadata": {},
   "source": [
    "Instead of userids, it is perhaps easiest to describe players by the games they liked. For example, we print the following example players and what tags they respond most to:"
   ]
  },
  {
   "cell_type": "code",
   "execution_count": 53,
   "metadata": {},
   "outputs": [
    {
     "name": "stdout",
     "output_type": "stream",
     "text": [
      "15887 ['Child of Light' 'Dungeon Master' 'Shin Megami Tensei: Persona 3']\n",
      "\t Turn-based Strategy\n",
      "\t First-person shooter\n",
      "\t Friendship\n",
      "\t Hand-drawn\n",
      "\t Asian\n",
      "15888 ['Project CARS' 'Gran Turismo 5' 'Forza Horizon 2']\n",
      "\t Motorsports\n",
      "\t Driving\n",
      "\t Driving Simulator\n",
      "\t Customization\n",
      "\t Linear\n",
      "15889 ['Shovel Knight' 'Super Mario 3D World'\n",
      " 'The Legend of Zelda: Ocarina of Time']\n",
      "\t Character development\n",
      "\t 4 Player Local\n",
      "\t Fishing\n",
      "\t Real-Time\n",
      "\t Medieval\n",
      "15890 ['Heavy Rain' 'Steins;Gate' 'Life Is Strange']\n",
      "\t Cinematic\n",
      "\t Quick-Time Events\n",
      "\t Story Rich\n",
      "\t Drama\n",
      "\t Time Attack\n",
      "15891 ['Cities: Skylines' 'Overcooked' 'The Sims 2']\n",
      "\t Family Friendly\n",
      "\t Funny\n",
      "\t Vehicles\n",
      "\t Great Soundtrack\n",
      "\t Sandbox\n",
      "15892 ['Europa Universalis IV' 'Rome: Total War' \"Sid Meier's Civilization IV\"]\n",
      "\t Trading\n",
      "\t Grand Strategy\n",
      "\t Replay Value\n",
      "\t Naval\n",
      "\t 4X\n",
      "15893 ['NHL 17' 'FIFA 18' 'WWE 2K19']\n",
      "\t Non-fiction\n",
      "\t Sports\n",
      "\t Ice Hockey\n",
      "\t Co-op\n",
      "\t Multiplayer\n"
     ]
    }
   ],
   "source": [
    "for row in validation_rows:\n",
    "    print(row, data.games_description[gameids[games_train.getrow(row).A.flatten().astype(bool)]].values)\n",
    "    for tag_related in coefs.iloc[row,:].sort_values(ascending=False).head(5).index.values:\n",
    "        print(\"\\t\", tag_related)\n"
   ]
  },
  {
   "cell_type": "markdown",
   "metadata": {},
   "source": [
    "## Widgets"
   ]
  },
  {
   "cell_type": "markdown",
   "metadata": {},
   "source": [
    "The following widgets can be used to obtain predictions in real time from the four different models. The inputs to each of the models are:\n",
    "1. MVN: recommend by game likes (based on likes)\n",
    "2. Questions: recommend by question answers (based on likes)\n",
    "3. Tags: recommend by game likes (based on likes & game content)\n",
    "4. Questions X Tags: recommend by question answers (based on likes & game content)"
   ]
  },
  {
   "cell_type": "code",
   "execution_count": 44,
   "metadata": {},
   "outputs": [],
   "source": [
    "mu = likes.sum(axis=0).A.flatten() / likes.shape[0]\n",
    "std = np.where(mu > 0.0, np.sqrt(mu*(1.0-mu)), 1.0)\n",
    "games2 = sp.csr_matrix((likes - mu) / std)"
   ]
  },
  {
   "cell_type": "markdown",
   "metadata": {},
   "source": [
    "### MVN"
   ]
  },
  {
   "cell_type": "code",
   "execution_count": 45,
   "metadata": {},
   "outputs": [
    {
     "data": {
      "application/vnd.jupyter.widget-view+json": {
       "model_id": "a0f17ccca9404fe8b756667563a548f0",
       "version_major": 2,
       "version_minor": 0
      },
      "text/plain": [
       "interactive(children=(Text(value='mass effect 2', description='Search'), Output()), _dom_classes=('widget-inte…"
      ]
     },
     "metadata": {},
     "output_type": "display_data"
    }
   ],
   "source": [
    "in_data = data.games_description.index.isin(gameids)\n",
    "@interact\n",
    "def search(Search='mass effect 2'):\n",
    "    return(data.games_description[data.games_description.str.contains(Search, case=False) & in_data])\n"
   ]
  },
  {
   "cell_type": "code",
   "execution_count": 46,
   "metadata": {},
   "outputs": [],
   "source": [
    "model = MVN_nobias(sp.csr_matrix(likes, dtype=float))"
   ]
  },
  {
   "cell_type": "code",
   "execution_count": 47,
   "metadata": {},
   "outputs": [
    {
     "data": {
      "application/vnd.jupyter.widget-view+json": {
       "model_id": "a5495ab9115b4fcdb893c5e638f898bd",
       "version_major": 2,
       "version_minor": 0
      },
      "text/plain": [
       "interactive(children=(Text(value='442', description='fav_game1'), Text(value='', description='fav_game2'), Tex…"
      ]
     },
     "metadata": {},
     "output_type": "display_data"
    }
   ],
   "source": [
    "display_online(model.predict_online, gameids, data.games_covers, data.games_description)"
   ]
  },
  {
   "cell_type": "markdown",
   "metadata": {},
   "source": [
    "### Questions"
   ]
  },
  {
   "cell_type": "code",
   "execution_count": 48,
   "metadata": {},
   "outputs": [],
   "source": [
    "model = Questions()\n",
    "model.fit(games2, questions, reg=1)"
   ]
  },
  {
   "cell_type": "code",
   "execution_count": 49,
   "metadata": {},
   "outputs": [
    {
     "data": {
      "application/vnd.jupyter.widget-view+json": {
       "model_id": "cea8972f01cc406daf90848a410ce034",
       "version_major": 2,
       "version_minor": 0
      },
      "text/plain": [
       "interactive(children=(IntSlider(value=0, description='Engaging in battle', layout=Layout(width='600px'), max=2…"
      ]
     },
     "metadata": {},
     "output_type": "display_data"
    }
   ],
   "source": [
    "display_online_questions(model.predict_online, gameids, data.games_covers, data.games_description, questionids, data.items_description)"
   ]
  },
  {
   "cell_type": "markdown",
   "metadata": {},
   "source": [
    "### Tags"
   ]
  },
  {
   "cell_type": "code",
   "execution_count": 50,
   "metadata": {},
   "outputs": [],
   "source": [
    "model = Tags()\n",
    "model.fit(games2, tagsx, reg=1000)"
   ]
  },
  {
   "cell_type": "code",
   "execution_count": 51,
   "metadata": {},
   "outputs": [
    {
     "data": {
      "application/vnd.jupyter.widget-view+json": {
       "model_id": "01e2dd9b0335415aba74204ae7321648",
       "version_major": 2,
       "version_minor": 0
      },
      "text/plain": [
       "interactive(children=(Text(value='442', description='fav_game1'), Text(value='', description='fav_game2'), Tex…"
      ]
     },
     "metadata": {},
     "output_type": "display_data"
    }
   ],
   "source": [
    "display_online(model.predict_online, gameids, data.games_covers, data.games_description)"
   ]
  },
  {
   "cell_type": "markdown",
   "metadata": {},
   "source": [
    "### Questions x Tags"
   ]
  },
  {
   "cell_type": "code",
   "execution_count": 52,
   "metadata": {},
   "outputs": [],
   "source": [
    "model = QuestionsXTags()\n",
    "model.fit(games2, questions, tagsx, reg=1)"
   ]
  },
  {
   "cell_type": "code",
   "execution_count": 53,
   "metadata": {},
   "outputs": [
    {
     "data": {
      "application/vnd.jupyter.widget-view+json": {
       "model_id": "41a95d87b64b4163bd111aecff26604c",
       "version_major": 2,
       "version_minor": 0
      },
      "text/plain": [
       "interactive(children=(IntSlider(value=0, description='Engaging in battle', layout=Layout(width='600px'), max=2…"
      ]
     },
     "metadata": {},
     "output_type": "display_data"
    }
   ],
   "source": [
    "display_online_questions(model.predict_online, gameids, data.games_covers, data.games_description, questionids, data.items_description)"
   ]
  },
  {
   "cell_type": "code",
   "execution_count": null,
   "metadata": {},
   "outputs": [],
   "source": []
  }
 ],
 "metadata": {
  "kernelspec": {
   "display_name": "Python 2",
   "language": "python",
   "name": "python2"
  },
  "language_info": {
   "codemirror_mode": {
    "name": "ipython",
    "version": 2
   },
   "file_extension": ".py",
   "mimetype": "text/x-python",
   "name": "python",
   "nbconvert_exporter": "python",
   "pygments_lexer": "ipython2",
   "version": "2.7.16"
  }
 },
 "nbformat": 4,
 "nbformat_minor": 2
}
